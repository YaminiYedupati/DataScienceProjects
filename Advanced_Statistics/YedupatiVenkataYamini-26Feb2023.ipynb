{
 "cells": [
  {
   "cell_type": "code",
   "execution_count": 2,
   "id": "39d14468",
   "metadata": {},
   "outputs": [],
   "source": [
    "#Yedupati Venkata Yamini Module 3 project python notebook"
   ]
  },
  {
   "cell_type": "markdown",
   "id": "ba62249a",
   "metadata": {},
   "source": [
    "#1.1 What is the probability that a randomly chosen player would suffer an injury?\n",
    "\n",
    "P(playersufferinginjury)\n",
    "\n",
    "= players_who_suffered_injury/total_number_of_players\n",
    "\n",
    "\n",
    "= 145/235\n",
    "\n",
    "\n",
    "= 0.617"
   ]
  },
  {
   "cell_type": "markdown",
   "id": "ee226295",
   "metadata": {},
   "source": [
    "#1.2 What is the probability that a player is a forward or a winger\n",
    "\n",
    "\n",
    "P(forward or winger) = P(Forward)/total_number_of_players+P(winger)/total_number_of_players\n",
    "\n",
    "\n",
    "= 94+29/235\n",
    "\n",
    "\n",
    "= 123/235 = 0.523"
   ]
  },
  {
   "cell_type": "markdown",
   "id": "4c3049b6",
   "metadata": {},
   "source": [
    "#1.3  What is the probability that a randomly chosen player plays in a striker position and has a foot injury?\n",
    "\n",
    "\n",
    "P(striker_and_has_foor_injury)\n",
    "\n",
    "= 45/235\n",
    "\n",
    "= 0.191"
   ]
  },
  {
   "cell_type": "markdown",
   "id": "c711db10",
   "metadata": {},
   "source": [
    "#1.4 What is the probability that a randomly chosen injured player is a striker?\n",
    "\n",
    "\n",
    "P(injured_player_is_striker)\n",
    "\n",
    "= p(injured_player_and_striker)/p(injured_players)\n",
    "\n",
    "\n",
    "= 45/145\n",
    "\n",
    "= 0.31"
   ]
  },
  {
   "cell_type": "markdown",
   "id": "4a0a9e18",
   "metadata": {},
   "source": [
    "#1.5 What is the probability that a randomly chosen injured player is either a forward or an attacking midfielder?\n",
    "\n",
    "\n",
    "P(forward_injured)/P(injured) + P(attackingmidfield_injured)/P(injured)\n",
    "\n",
    "\n",
    "= 56/145 + 24/145 = 0.551"
   ]
  },
  {
   "cell_type": "markdown",
   "id": "4de47637",
   "metadata": {},
   "source": [
    "#Qn 2\n",
    "#fire, mechanical failure, human error - all are independent events.\n",
    "\n",
    "\n",
    "P(rleak|fire) = 0.2\n",
    "\n",
    "\n",
    "P(rleak|mech) = 0.5\n",
    "\n",
    "\n",
    "p(rleak|herror) = 0.1\n",
    "\n",
    "\n",
    "P(rleak_and_fire) = 0.001\n",
    "\n",
    "\n",
    "P(rleak_and_mech) = 0.0015\n",
    "\n",
    "\n",
    "P(rleak_and_herror) = 0.0012"
   ]
  },
  {
   "cell_type": "markdown",
   "id": "55ba62ca",
   "metadata": {},
   "source": [
    "#2.1 What are the probabilities of a fire, a mechanical failure, and a human error respectively?\n",
    "\n",
    "P(rleak|fire)\n",
    "\n",
    "= P(rleak_and_fire)/P(fire)\n",
    "\n",
    "\n",
    "P(fire) = P(rleak_and_fire)/P(rleak|fire)\n",
    "\n",
    "= 0.001/0.2 = 0.005\n",
    "\n",
    "\n",
    "P(rleak|mech) = P(rleak_and_mech)|P(mech)\n",
    "\n",
    "\n",
    "P(mech) \n",
    "\n",
    "= P(rleak_and_mech)|P(rleak|mech)\n",
    "\n",
    "= 0.0015/0.5 = 0.003\n",
    "\n",
    "P(rleak|herror)\n",
    "\n",
    "= P(rleak_and_herror)|P(herror)\n",
    "\n",
    "\n",
    "P(herror)\n",
    "\n",
    "= P(rleak_and_herror)|P(rleak|herror)\n",
    "\n",
    "= 0.0012/0.1 \n",
    "\n",
    "= 0.012"
   ]
  },
  {
   "cell_type": "markdown",
   "id": "cf1a71b5",
   "metadata": {},
   "source": [
    "#2.2 What is the probability of a radiation leak?\n",
    "\n",
    "P(rleak) =\n",
    "\n",
    "\n",
    "(P(rleak_and_fire) + P(rleak_and_mech) + P(rleak_and_herror))\n",
    "\n",
    "\n",
    "(0.001 + 0.0015 + 0.0012) \n",
    "\n",
    "\n",
    "= 0.0037\n",
    "\n",
    "0.37% probability of radiation leak     "
   ]
  },
  {
   "cell_type": "markdown",
   "id": "b404b1e4",
   "metadata": {},
   "source": [
    "#2.3 Suppose there has been a radiation leak in the reactor for which the definite cause is not known. What is the probability that it has been caused by:\n",
    "\n",
    "A Fire.\n",
    "A Mechanical Failure.\n",
    "A Human Error.\n",
    "\n",
    "#2.3.1 \n",
    "P(fire|rleak) = P(fire_and_rleak)/ P(rleak) \n",
    "= 0.001/0.0037\n",
    "= 1/3.7 = 0.27\n",
    "\n",
    "#2.3.2 \n",
    "P(mech|rleak) = P(mech_and_rleak) / P(rleak)\n",
    "= 0.0015/ 0.0037\n",
    "= 1.5/3.7 \n",
    "= 0.4\n",
    "\n",
    "#2.3.3\n",
    "P(herror|rleak) = P(herror_and_rleak) / P(rleak)\n",
    "= 0.0012 / 0.0037\n",
    "= 1.2/3.7\n",
    "= 0.32"
   ]
  },
  {
   "cell_type": "code",
   "execution_count": 3,
   "id": "7b38a697",
   "metadata": {},
   "outputs": [],
   "source": [
    "#importing all necessary libraries\n",
    "import numpy as np\n",
    "import pandas as pd\n",
    "from scipy.stats import norm\n",
    "import matplotlib.pyplot as plt\n",
    "import seaborn as sns"
   ]
  },
  {
   "cell_type": "code",
   "execution_count": 4,
   "id": "ce38395c",
   "metadata": {},
   "outputs": [],
   "source": [
    "#3\n",
    "\n",
    "mu = 5#kg per sqcm\n",
    "sigma = 1.5#kg per sqcm\n"
   ]
  },
  {
   "cell_type": "code",
   "execution_count": 5,
   "id": "36172754",
   "metadata": {},
   "outputs": [
    {
     "data": {
      "text/plain": [
       "0.11123243744783456"
      ]
     },
     "execution_count": 5,
     "metadata": {},
     "output_type": "execute_result"
    }
   ],
   "source": [
    "#3.1\n",
    "xbar = 3.17 #kg per sqcm\n",
    "#P(X < 3.17 kg per sqcm)\n",
    "p = norm.cdf(xbar, mu, sigma)\n",
    "p"
   ]
  },
  {
   "cell_type": "markdown",
   "id": "f58bb466",
   "metadata": {},
   "source": [
    "11% of gunny bags have breaking strength less than 3.17 kg per sqcm"
   ]
  },
  {
   "cell_type": "code",
   "execution_count": 6,
   "id": "0ca1ef48",
   "metadata": {},
   "outputs": [
    {
     "name": "stdout",
     "output_type": "stream",
     "text": [
      "         x       pdf\n",
      "0  1.00000  0.007597\n",
      "1  1.10101  0.009071\n",
      "2  1.20202  0.010782\n",
      "3  1.30303  0.012757\n",
      "4  1.40404  0.015026\n"
     ]
    },
    {
     "data": {
      "image/png": "[encoded data removed]",
      "text/plain": [
       "<Figure size 640x480 with 1 Axes>"
      ]
     },
     "metadata": {},
     "output_type": "display_data"
    }
   ],
   "source": [
    "# Visual representation for qn 3.1\n",
    "\n",
    "density = pd.DataFrame() # create an empty DataFrame\n",
    "random_numbers = np.random.randint(1,12,50)\n",
    "\n",
    "# create an array of 100 linear spaced numbers between min and max random numbers generated\n",
    "#and store it in the first column of the empty DataFrame\n",
    "density[\"x\"] = np.linspace(\n",
    "    random_numbers.min(), random_numbers.max(), 100\n",
    ") \n",
    "\n",
    "# calculate the pdf() of the created numbers and store it in another column named 'pdf'\n",
    "density[\"pdf\"] = norm.pdf(density[\"x\"], mu, sigma) \n",
    "\n",
    "print(density.head())\n",
    "\n",
    "fig, ax = plt.subplots() # create the subplot\n",
    "\n",
    "# We are plotting the distributions here to better visualize the calculations.\n",
    "\n",
    "plt.plot(density[\"x\"], density[\"pdf\"]) # plot the pdf of the normal distribution\n",
    "\n",
    "plt.axvline(x=xbar, c=\"r\") # draw a red vertical line at the given sample mean value xbar\n",
    "\n",
    "x1 = np.linspace(density[\"x\"].min(), xbar, 50) # create an array of 50 numbers between min random number and xbar\n",
    "\n",
    "plt.fill_between(x1, norm.pdf(x1, mu, sigma), color=\"r\") # fill the specified region with red color\n",
    "\n",
    "plt.xlabel(\"Score\") # set the x-axis label\n",
    "plt.ylabel(\"Probability\") # set the y-axis label\n",
    "plt.title(\"Normal Distribution\") # set the title\n",
    "\n",
    "plt.show() # display the plot"
   ]
  },
  {
   "cell_type": "code",
   "execution_count": 7,
   "id": "03c412d3",
   "metadata": {},
   "outputs": [
    {
     "name": "stdout",
     "output_type": "stream",
     "text": [
      "0.8246760551477705\n"
     ]
    }
   ],
   "source": [
    "#3.2\n",
    "xbar = 3.6\n",
    "#P(xbar >= 3.6)\n",
    "\n",
    "print(1 - norm.cdf(xbar, mu,sigma))"
   ]
  },
  {
   "cell_type": "code",
   "execution_count": 8,
   "id": "ab306be0",
   "metadata": {},
   "outputs": [
    {
     "name": "stdout",
     "output_type": "stream",
     "text": [
      "         x       pdf\n",
      "0  1.00000  0.007597\n",
      "1  1.10101  0.009071\n",
      "2  1.20202  0.010782\n",
      "3  1.30303  0.012757\n",
      "4  1.40404  0.015026\n"
     ]
    },
    {
     "data": {
      "image/png": "[encoded data removed]",
      "text/plain": [
       "<Figure size 640x480 with 1 Axes>"
      ]
     },
     "metadata": {},
     "output_type": "display_data"
    }
   ],
   "source": [
    "# Visual representation for  3.2\n",
    "\n",
    "density = pd.DataFrame() # create an empty DataFrame\n",
    "random_numbers = np.random.randint(1,12,50)\n",
    "\n",
    "# create an array of 100 linear spaced numbers between min and max random numbers generated\n",
    "#and store it in the first column of the empty DataFrame\n",
    "density[\"x\"] = np.linspace(\n",
    "    random_numbers.min(), random_numbers.max(), 100\n",
    ") \n",
    "\n",
    "# calculate the pdf() of the created numbers and store it in another column named 'pdf'\n",
    "density[\"pdf\"] = norm.pdf(density[\"x\"], mu, sigma) \n",
    "\n",
    "print(density.head())\n",
    "\n",
    "fig, ax = plt.subplots() # create the subplot\n",
    "\n",
    "# We are plotting the distributions here to better visualize the calculations.\n",
    "\n",
    "plt.plot(density[\"x\"], density[\"pdf\"]) # plot the pdf of the normal distribution\n",
    "\n",
    "plt.axvline(x=xbar, c=\"r\") # draw a red vertical line at the given sample mean value xbar\n",
    "\n",
    "x1 = np.linspace(density[\"x\"].max(), xbar, 50) # create an array of 50 numbers between max random number and xbar\n",
    "\n",
    "plt.fill_between(x1, norm.pdf(x1, mu, sigma), color=\"r\") # fill the specified region with red color\n",
    "\n",
    "plt.xlabel(\"Score\") # set the x-axis label\n",
    "plt.ylabel(\"Probability\") # set the y-axis label\n",
    "plt.title(\"Normal Distribution\") # set the title\n",
    "\n",
    "plt.show() # display the plot"
   ]
  },
  {
   "cell_type": "code",
   "execution_count": 9,
   "id": "a39cc2ce",
   "metadata": {},
   "outputs": [
    {
     "name": "stdout",
     "output_type": "stream",
     "text": [
      "0.13055865981823633\n"
     ]
    }
   ],
   "source": [
    "#3.3\n",
    "xbar_higher = 5.5\n",
    "xbar_lower = 5\n",
    "\n",
    "print(norm.cdf(xbar_higher, mu, sigma) - norm.cdf(xbar_lower, mu, sigma))"
   ]
  },
  {
   "cell_type": "code",
   "execution_count": 10,
   "id": "b85933cf",
   "metadata": {},
   "outputs": [
    {
     "name": "stdout",
     "output_type": "stream",
     "text": [
      "         x       pdf\n",
      "0  1.00000  0.007597\n",
      "1  1.10101  0.009071\n",
      "2  1.20202  0.010782\n",
      "3  1.30303  0.012757\n",
      "4  1.40404  0.015026\n"
     ]
    },
    {
     "data": {
      "image/png": "[encoded data removed]",
      "text/plain": [
       "<Figure size 640x480 with 1 Axes>"
      ]
     },
     "metadata": {},
     "output_type": "display_data"
    }
   ],
   "source": [
    "# Visual representation for 3.3\n",
    "\n",
    "density = pd.DataFrame() # create an empty DataFrame\n",
    "random_numbers = np.random.randint(1,12,50)\n",
    "\n",
    "# create an array of 100 linear spaced numbers between min and max random numbers generated\n",
    "#and store it in the first column of the empty DataFrame\n",
    "density[\"x\"] = np.linspace(\n",
    "    random_numbers.min(), random_numbers.max(), 100\n",
    ") \n",
    "\n",
    "# calculate the pdf() of the created numbers and store it in another column named 'pdf'\n",
    "density[\"pdf\"] = norm.pdf(density[\"x\"], mu, sigma) \n",
    "\n",
    "print(density.head())\n",
    "\n",
    "fig, ax = plt.subplots() # create the subplot\n",
    "\n",
    "# We are plotting the distributions here to better visualize the calculations.\n",
    "\n",
    "plt.plot(density[\"x\"], density[\"pdf\"]) # plot the pdf of the normal distribution\n",
    "\n",
    "plt.axvline(x=xbar_lower, c=\"r\") # draw a red vertical line at the given sample mean value xbar\n",
    "plt.axvline(x=xbar_higher, c=\"r\") # draw a red vertical line at the given sample mean value xbar\n",
    "\n",
    "x1 = np.linspace(xbar_lower, xbar_higher, 50) # create an array of 50 numbers between max random number and xbar\n",
    "\n",
    "plt.fill_between(x1, norm.pdf(x1, mu, sigma), color=\"r\") # fill the specified region with red color\n",
    "\n",
    "plt.xlabel(\"Score\") # set the x-axis label\n",
    "plt.ylabel(\"Probability\") # set the y-axis label\n",
    "plt.title(\"Normal Distribution\") # set the title\n",
    "\n",
    "plt.show() # display the plot"
   ]
  },
  {
   "cell_type": "code",
   "execution_count": 11,
   "id": "07ee12ad",
   "metadata": {},
   "outputs": [
    {
     "data": {
      "text/plain": [
       "0.13900157199868257"
      ]
     },
     "execution_count": 11,
     "metadata": {},
     "output_type": "execute_result"
    }
   ],
   "source": [
    "#3.4\n",
    "\n",
    "xbar_lower = 3\n",
    "xbar_higher = 7.5\n",
    "\n",
    "val = 1 - (norm.cdf(xbar_higher, mu, sigma) - norm.cdf(xbar_lower, mu, sigma))\n",
    "val"
   ]
  },
  {
   "cell_type": "code",
   "execution_count": 12,
   "id": "62f452f0",
   "metadata": {},
   "outputs": [
    {
     "name": "stdout",
     "output_type": "stream",
     "text": [
      "         x       pdf\n",
      "0  1.00000  0.007597\n",
      "1  1.10101  0.009071\n",
      "2  1.20202  0.010782\n",
      "3  1.30303  0.012757\n",
      "4  1.40404  0.015026\n"
     ]
    },
    {
     "data": {
      "image/png": "[encoded data removed]",
      "text/plain": [
       "<Figure size 640x480 with 1 Axes>"
      ]
     },
     "metadata": {},
     "output_type": "display_data"
    }
   ],
   "source": [
    "# Visual representation for 3.4\n",
    "\n",
    "density = pd.DataFrame() # create an empty DataFrame\n",
    "random_numbers = np.random.randint(1,12,50)\n",
    "\n",
    "# create an array of 100 linear spaced numbers between min and max random numbers generated\n",
    "#and store it in the first column of the empty DataFrame\n",
    "density[\"x\"] = np.linspace(\n",
    "    random_numbers.min(), random_numbers.max(), 100\n",
    ") \n",
    "\n",
    "# calculate the pdf() of the created numbers and store it in another column named 'pdf'\n",
    "density[\"pdf\"] = norm.pdf(density[\"x\"], mu, sigma) \n",
    "\n",
    "print(density.head())\n",
    "\n",
    "fig, ax = plt.subplots() # create the subplot\n",
    "\n",
    "# We are plotting the distributions here to better visualize the calculations.\n",
    "\n",
    "plt.plot(density[\"x\"], density[\"pdf\"]) # plot the pdf of the normal distribution\n",
    "\n",
    "plt.axvline(x=xbar_lower, c=\"r\") # draw a red vertical line at the given sample mean value xbar\n",
    "plt.axvline(x=xbar_higher, c=\"r\") # draw a red vertical line at the given sample mean value xbar\n",
    "\n",
    "x1 = np.linspace(density[\"x\"].min(), xbar_lower, 50) # create an array of 50 numbers between max random number and xbar\n",
    "x2 = np.linspace(xbar_higher, density[\"x\"].max(), 50) # create an array of 50 numbers between max random number and xbar\n",
    "\n",
    "plt.fill_between(x1, norm.pdf(x1, mu, sigma), color=\"r\") # fill the specified region with red color\n",
    "plt.fill_between(x2, norm.pdf(x2, mu, sigma), color=\"r\") # fill the specified region with red color\n",
    "\n",
    "plt.xlabel(\"Score\") # set the x-axis label\n",
    "plt.ylabel(\"Probability\") # set the y-axis label\n",
    "plt.title(\"Normal Distribution\") # set the title\n",
    "\n",
    "plt.show() # display the plot"
   ]
  },
  {
   "cell_type": "code",
   "execution_count": 13,
   "id": "294133a8",
   "metadata": {},
   "outputs": [
    {
     "name": "stdout",
     "output_type": "stream",
     "text": [
      "0.8266927837484748\n",
      "0.8012869336779058\n",
      "82.7331628766667\n"
     ]
    }
   ],
   "source": [
    "#qn4\n",
    "\n",
    "mu = 77\n",
    "sigma = 8.5\n",
    "\n",
    "#4.1\n",
    "xbar = 85\n",
    "print(norm.cdf(xbar, mu, sigma))\n",
    "\n",
    "#4.2\n",
    "xbar_lower = 65\n",
    "xbar_higher = 87\n",
    "print(norm.cdf(xbar_higher, mu, sigma) - norm.cdf(xbar_lower, mu, sigma))\n",
    "\n",
    "#4.3\n",
    "percentile = 0.75\n",
    "print(norm.ppf(percentile, mu, sigma))"
   ]
  },
  {
   "cell_type": "code",
   "execution_count": 14,
   "id": "b289a789",
   "metadata": {},
   "outputs": [
    {
     "data": {
      "text/html": [
       "<div>\n",
       "<style scoped>\n",
       "    .dataframe tbody tr th:only-of-type {\n",
       "        vertical-align: middle;\n",
       "    }\n",
       "\n",
       "    .dataframe tbody tr th {\n",
       "        vertical-align: top;\n",
       "    }\n",
       "\n",
       "    .dataframe thead th {\n",
       "        text-align: right;\n",
       "    }\n",
       "</style>\n",
       "<table border=\"1\" class=\"dataframe\">\n",
       "  <thead>\n",
       "    <tr style=\"text-align: right;\">\n",
       "      <th></th>\n",
       "      <th>Unpolished</th>\n",
       "      <th>Treated and Polished</th>\n",
       "    </tr>\n",
       "  </thead>\n",
       "  <tbody>\n",
       "    <tr>\n",
       "      <th>0</th>\n",
       "      <td>164.481713</td>\n",
       "      <td>133.209393</td>\n",
       "    </tr>\n",
       "    <tr>\n",
       "      <th>1</th>\n",
       "      <td>154.307045</td>\n",
       "      <td>138.482771</td>\n",
       "    </tr>\n",
       "    <tr>\n",
       "      <th>2</th>\n",
       "      <td>129.861048</td>\n",
       "      <td>159.665201</td>\n",
       "    </tr>\n",
       "    <tr>\n",
       "      <th>3</th>\n",
       "      <td>159.096184</td>\n",
       "      <td>145.663528</td>\n",
       "    </tr>\n",
       "    <tr>\n",
       "      <th>4</th>\n",
       "      <td>135.256748</td>\n",
       "      <td>136.789227</td>\n",
       "    </tr>\n",
       "  </tbody>\n",
       "</table>\n",
       "</div>"
      ],
      "text/plain": [
       "   Unpolished   Treated and Polished\n",
       "0   164.481713            133.209393\n",
       "1   154.307045            138.482771\n",
       "2   129.861048            159.665201\n",
       "3   159.096184            145.663528\n",
       "4   135.256748            136.789227"
      ]
     },
     "execution_count": 14,
     "metadata": {},
     "output_type": "execute_result"
    }
   ],
   "source": [
    "#5.1 - do one tailed t-test oneone sample(unpolished) as population standard deviation is not known\n",
    "#5.2 do 2 tailed t-test on 2 samples as alternated hypothesis is hardness not equal\n",
    "\n",
    "#H0 = mu = 150\n",
    "#H1 = mu < 150\n",
    "\n",
    "stones= pd.read_csv('Zingaro_company.csv')\n",
    "stones.head()"
   ]
  },
  {
   "cell_type": "code",
   "execution_count": 15,
   "id": "1badbc9d",
   "metadata": {},
   "outputs": [
    {
     "name": "stdout",
     "output_type": "stream",
     "text": [
      "<class 'pandas.core.frame.DataFrame'>\n",
      "RangeIndex: 75 entries, 0 to 74\n",
      "Data columns (total 2 columns):\n",
      " #   Column                Non-Null Count  Dtype  \n",
      "---  ------                --------------  -----  \n",
      " 0   Unpolished            75 non-null     float64\n",
      " 1   Treated and Polished  75 non-null     float64\n",
      "dtypes: float64(2)\n",
      "memory usage: 1.3 KB\n"
     ]
    }
   ],
   "source": [
    "stones.info()"
   ]
  },
  {
   "cell_type": "code",
   "execution_count": 16,
   "id": "8e8a296c",
   "metadata": {},
   "outputs": [
    {
     "name": "stdout",
     "output_type": "stream",
     "text": [
      "134.11052653373335  33.0418044136061  147.78811718133335  15.587355273119856\n"
     ]
    }
   ],
   "source": [
    "mu_unpolished = stones['Unpolished '].mean()\n",
    "sigma_unpolished = stones['Unpolished '].std()\n",
    "\n",
    "mu_polished = stones['Treated and Polished'].mean()\n",
    "sigma_polished = stones['Treated and Polished'].std()\n",
    "print(mu_unpolished,'',sigma_unpolished,'',mu_polished,'',sigma_polished)"
   ]
  },
  {
   "cell_type": "code",
   "execution_count": 17,
   "id": "977b7163",
   "metadata": {},
   "outputs": [],
   "source": [
    "from scipy.stats import ttest_1samp, ttest_ind, ttest_rel"
   ]
  },
  {
   "cell_type": "code",
   "execution_count": 18,
   "id": "c7d9efe1",
   "metadata": {},
   "outputs": [
    {
     "name": "stdout",
     "output_type": "stream",
     "text": [
      "-4.164629601426757  8.342573994839304e-05\n"
     ]
    }
   ],
   "source": [
    "#5.1\n",
    "t_statistic, p_value = ttest_1samp(stones['Unpolished '], 150)\n",
    "print(t_statistic, '', p_value)"
   ]
  },
  {
   "cell_type": "markdown",
   "id": "baf3a498",
   "metadata": {},
   "source": [
    "alpha = 0.05\n",
    "p_value is less than 0.05 so reject the null hypothesis.\n",
    "Zingaro is justified in thinking so as brinell's hardness index for unpolished stones is less than 150 \n",
    "as null hypothesis that index is atleast 150 is rejected"
   ]
  },
  {
   "cell_type": "markdown",
   "id": "1eb1a291",
   "metadata": {},
   "source": [
    "#5.2\n",
    "Null hypothesis: mu_polished = mu_unpolished\n",
    "Alternate hypothesis: mu_polished != mu_unpolished"
   ]
  },
  {
   "cell_type": "code",
   "execution_count": 19,
   "id": "a57be2bc",
   "metadata": {},
   "outputs": [
    {
     "name": "stdout",
     "output_type": "stream",
     "text": [
      "3.2422320501414053  0.0014655150194628353\n"
     ]
    }
   ],
   "source": [
    "t_statistic, p_value = ttest_ind(stones['Treated and Polished'], stones['Unpolished '])\n",
    "print(t_statistic, '', p_value)"
   ]
  },
  {
   "cell_type": "markdown",
   "id": "1840a6a7",
   "metadata": {},
   "source": [
    "alpha = 0.05\n",
    "p_value = 0.001\n",
    "p_value is less than alpha, so null hypothesis even in this case is also rejected.\n",
    "null hypothesis that the hardness of polished and unpolished stones is same is not true."
   ]
  },
  {
   "cell_type": "markdown",
   "id": "4d345454",
   "metadata": {},
   "source": [
    "#6\n",
    "null_hypothesis: mu_afterenrolling - mu_beforeenrolling <= 5\n",
    "alternate_hypothesis: mu_afterenrolling - mu_beforeenrolling > 5"
   ]
  },
  {
   "cell_type": "code",
   "execution_count": 20,
   "id": "877ba4ef",
   "metadata": {},
   "outputs": [],
   "source": [
    "aquarius = pd.read_csv('Aquarius_gym.csv')"
   ]
  },
  {
   "cell_type": "code",
   "execution_count": 21,
   "id": "9cf35a1f",
   "metadata": {},
   "outputs": [
    {
     "data": {
      "text/html": [
       "<div>\n",
       "<style scoped>\n",
       "    .dataframe tbody tr th:only-of-type {\n",
       "        vertical-align: middle;\n",
       "    }\n",
       "\n",
       "    .dataframe tbody tr th {\n",
       "        vertical-align: top;\n",
       "    }\n",
       "\n",
       "    .dataframe thead th {\n",
       "        text-align: right;\n",
       "    }\n",
       "</style>\n",
       "<table border=\"1\" class=\"dataframe\">\n",
       "  <thead>\n",
       "    <tr style=\"text-align: right;\">\n",
       "      <th></th>\n",
       "      <th>Sr no.</th>\n",
       "      <th>Before</th>\n",
       "      <th>After</th>\n",
       "    </tr>\n",
       "  </thead>\n",
       "  <tbody>\n",
       "    <tr>\n",
       "      <th>0</th>\n",
       "      <td>1</td>\n",
       "      <td>39</td>\n",
       "      <td>44</td>\n",
       "    </tr>\n",
       "    <tr>\n",
       "      <th>1</th>\n",
       "      <td>2</td>\n",
       "      <td>25</td>\n",
       "      <td>25</td>\n",
       "    </tr>\n",
       "    <tr>\n",
       "      <th>2</th>\n",
       "      <td>3</td>\n",
       "      <td>39</td>\n",
       "      <td>39</td>\n",
       "    </tr>\n",
       "    <tr>\n",
       "      <th>3</th>\n",
       "      <td>4</td>\n",
       "      <td>6</td>\n",
       "      <td>13</td>\n",
       "    </tr>\n",
       "    <tr>\n",
       "      <th>4</th>\n",
       "      <td>5</td>\n",
       "      <td>40</td>\n",
       "      <td>44</td>\n",
       "    </tr>\n",
       "  </tbody>\n",
       "</table>\n",
       "</div>"
      ],
      "text/plain": [
       "   Sr no.  Before  After\n",
       "0       1      39     44\n",
       "1       2      25     25\n",
       "2       3      39     39\n",
       "3       4       6     13\n",
       "4       5      40     44"
      ]
     },
     "execution_count": 21,
     "metadata": {},
     "output_type": "execute_result"
    }
   ],
   "source": [
    "aquarius.head()"
   ]
  },
  {
   "cell_type": "code",
   "execution_count": 22,
   "id": "5f73e5f7",
   "metadata": {},
   "outputs": [
    {
     "name": "stdout",
     "output_type": "stream",
     "text": [
      "-19.322619811082458  2.2920419252511966e-35\n"
     ]
    }
   ],
   "source": [
    "t_statistic, p_value = ttest_rel(aquarius['Before'], aquarius['After'])\n",
    "print(t_statistic, '', p_value)"
   ]
  },
  {
   "cell_type": "code",
   "execution_count": 23,
   "id": "ea2f3220",
   "metadata": {},
   "outputs": [
    {
     "data": {
      "text/plain": [
       "1.1460209626255983e-35"
      ]
     },
     "execution_count": 23,
     "metadata": {},
     "output_type": "execute_result"
    }
   ],
   "source": [
    "p_value = p_value/2\n",
    "p_value"
   ]
  },
  {
   "cell_type": "markdown",
   "id": "bd5580fb",
   "metadata": {},
   "source": [
    "p_value less than alpha which is 0.05, reject null hypothesis that poeple are able to do <=5 pushups after joining the training program\n",
    "\n",
    "Consider the program successful as the null hypothesis has been rejected and the claim that number of pushups done after gym has been more than 5"
   ]
  },
  {
   "cell_type": "markdown",
   "id": "8af8025a",
   "metadata": {},
   "source": [
    "# 7.\n",
    "\n",
    "# Factors:\n",
    "\n",
    "methof of implant,\n",
    "temperature at which metal is treated,\n",
    "alloy used,\n",
    "dentist using his favorite method.\n",
    "\n",
    "# Response variable\n",
    "\n",
    "Response"
   ]
  },
  {
   "cell_type": "code",
   "execution_count": 24,
   "id": "e7424924",
   "metadata": {},
   "outputs": [],
   "source": [
    "from statsmodels.formula.api import ols      # For n-way ANOVA\n",
    "from statsmodels.stats.anova import _get_covariance,anova_lm # For n-way ANOVA"
   ]
  },
  {
   "cell_type": "code",
   "execution_count": 25,
   "id": "c7f84d6d",
   "metadata": {},
   "outputs": [],
   "source": [
    "#reading the sheet with name 'Data' from the given excel file.\n",
    "dental = pd.read_excel('Dental_Hardness_data.xlsx', sheet_name = 'Data')"
   ]
  },
  {
   "cell_type": "code",
   "execution_count": 26,
   "id": "be4dc602",
   "metadata": {},
   "outputs": [
    {
     "data": {
      "text/html": [
       "<div>\n",
       "<style scoped>\n",
       "    .dataframe tbody tr th:only-of-type {\n",
       "        vertical-align: middle;\n",
       "    }\n",
       "\n",
       "    .dataframe tbody tr th {\n",
       "        vertical-align: top;\n",
       "    }\n",
       "\n",
       "    .dataframe thead th {\n",
       "        text-align: right;\n",
       "    }\n",
       "</style>\n",
       "<table border=\"1\" class=\"dataframe\">\n",
       "  <thead>\n",
       "    <tr style=\"text-align: right;\">\n",
       "      <th></th>\n",
       "      <th>Dentist</th>\n",
       "      <th>Method</th>\n",
       "      <th>Alloy</th>\n",
       "      <th>Temp</th>\n",
       "      <th>Response</th>\n",
       "    </tr>\n",
       "  </thead>\n",
       "  <tbody>\n",
       "    <tr>\n",
       "      <th>0</th>\n",
       "      <td>1</td>\n",
       "      <td>1</td>\n",
       "      <td>1</td>\n",
       "      <td>1500</td>\n",
       "      <td>813</td>\n",
       "    </tr>\n",
       "    <tr>\n",
       "      <th>1</th>\n",
       "      <td>1</td>\n",
       "      <td>1</td>\n",
       "      <td>1</td>\n",
       "      <td>1600</td>\n",
       "      <td>792</td>\n",
       "    </tr>\n",
       "    <tr>\n",
       "      <th>2</th>\n",
       "      <td>1</td>\n",
       "      <td>1</td>\n",
       "      <td>1</td>\n",
       "      <td>1700</td>\n",
       "      <td>792</td>\n",
       "    </tr>\n",
       "    <tr>\n",
       "      <th>3</th>\n",
       "      <td>1</td>\n",
       "      <td>1</td>\n",
       "      <td>2</td>\n",
       "      <td>1500</td>\n",
       "      <td>907</td>\n",
       "    </tr>\n",
       "    <tr>\n",
       "      <th>4</th>\n",
       "      <td>1</td>\n",
       "      <td>1</td>\n",
       "      <td>2</td>\n",
       "      <td>1600</td>\n",
       "      <td>792</td>\n",
       "    </tr>\n",
       "  </tbody>\n",
       "</table>\n",
       "</div>"
      ],
      "text/plain": [
       "   Dentist  Method  Alloy  Temp  Response\n",
       "0        1       1      1  1500       813\n",
       "1        1       1      1  1600       792\n",
       "2        1       1      1  1700       792\n",
       "3        1       1      2  1500       907\n",
       "4        1       1      2  1600       792"
      ]
     },
     "execution_count": 26,
     "metadata": {},
     "output_type": "execute_result"
    }
   ],
   "source": [
    "dental.head()"
   ]
  },
  {
   "cell_type": "code",
   "execution_count": 27,
   "id": "e99421e9",
   "metadata": {},
   "outputs": [
    {
     "name": "stdout",
     "output_type": "stream",
     "text": [
      "<class 'pandas.core.frame.DataFrame'>\n",
      "RangeIndex: 90 entries, 0 to 89\n",
      "Data columns (total 5 columns):\n",
      " #   Column    Non-Null Count  Dtype\n",
      "---  ------    --------------  -----\n",
      " 0   Dentist   90 non-null     int64\n",
      " 1   Method    90 non-null     int64\n",
      " 2   Alloy     90 non-null     int64\n",
      " 3   Temp      90 non-null     int64\n",
      " 4   Response  90 non-null     int64\n",
      "dtypes: int64(5)\n",
      "memory usage: 3.6 KB\n"
     ]
    }
   ],
   "source": [
    "dental.info()"
   ]
  },
  {
   "cell_type": "code",
   "execution_count": 28,
   "id": "8a2fb03d",
   "metadata": {},
   "outputs": [
    {
     "name": "stdout",
     "output_type": "stream",
     "text": [
      "1    18\n",
      "2    18\n",
      "3    18\n",
      "4    18\n",
      "5    18\n",
      "Name: Dentist, dtype: int64\n",
      "1    30\n",
      "2    30\n",
      "3    30\n",
      "Name: Method, dtype: int64\n",
      "1    45\n",
      "2    45\n",
      "Name: Alloy, dtype: int64\n"
     ]
    }
   ],
   "source": [
    "print(dental.Dentist.value_counts())\n",
    "print(dental.Method.value_counts())\n",
    "print(dental.Alloy.value_counts())"
   ]
  },
  {
   "cell_type": "code",
   "execution_count": 29,
   "id": "b4f08700",
   "metadata": {},
   "outputs": [
    {
     "name": "stdout",
     "output_type": "stream",
     "text": [
      "1500    30\n",
      "1600    30\n",
      "1700    30\n",
      "Name: Temp, dtype: int64\n"
     ]
    }
   ],
   "source": [
    "print(dental.Temp.value_counts())"
   ]
  },
  {
   "cell_type": "code",
   "execution_count": 30,
   "id": "8a005ec0",
   "metadata": {},
   "outputs": [
    {
     "name": "stdout",
     "output_type": "stream",
     "text": [
      "<class 'pandas.core.frame.DataFrame'>\n",
      "RangeIndex: 90 entries, 0 to 89\n",
      "Data columns (total 5 columns):\n",
      " #   Column    Non-Null Count  Dtype   \n",
      "---  ------    --------------  -----   \n",
      " 0   Dentist   90 non-null     category\n",
      " 1   Method    90 non-null     category\n",
      " 2   Alloy     90 non-null     category\n",
      " 3   Temp      90 non-null     category\n",
      " 4   Response  90 non-null     int64   \n",
      "dtypes: category(4), int64(1)\n",
      "memory usage: 1.8 KB\n"
     ]
    }
   ],
   "source": [
    "#converting the integer columns as categorical as they make sense to be labelled.\n",
    "dental['Dentist'] = pd.Categorical(dental['Dentist'])\n",
    "dental['Method'] = pd.Categorical(dental['Method'])\n",
    "dental['Alloy'] = pd.Categorical(dental['Alloy'])\n",
    "dental.Temp = pd.Categorical(dental.Temp)\n",
    "dental.info()"
   ]
  },
  {
   "cell_type": "code",
   "execution_count": 31,
   "id": "3fb8d94d",
   "metadata": {},
   "outputs": [
    {
     "data": {
      "text/html": [
       "<div>\n",
       "<style scoped>\n",
       "    .dataframe tbody tr th:only-of-type {\n",
       "        vertical-align: middle;\n",
       "    }\n",
       "\n",
       "    .dataframe tbody tr th {\n",
       "        vertical-align: top;\n",
       "    }\n",
       "\n",
       "    .dataframe thead th {\n",
       "        text-align: right;\n",
       "    }\n",
       "</style>\n",
       "<table border=\"1\" class=\"dataframe\">\n",
       "  <thead>\n",
       "    <tr style=\"text-align: right;\">\n",
       "      <th></th>\n",
       "      <th>count</th>\n",
       "      <th>unique</th>\n",
       "      <th>top</th>\n",
       "      <th>freq</th>\n",
       "      <th>mean</th>\n",
       "      <th>std</th>\n",
       "      <th>min</th>\n",
       "      <th>25%</th>\n",
       "      <th>50%</th>\n",
       "      <th>75%</th>\n",
       "      <th>max</th>\n",
       "    </tr>\n",
       "  </thead>\n",
       "  <tbody>\n",
       "    <tr>\n",
       "      <th>Dentist</th>\n",
       "      <td>45.0</td>\n",
       "      <td>5.0</td>\n",
       "      <td>1.0</td>\n",
       "      <td>9.0</td>\n",
       "      <td>NaN</td>\n",
       "      <td>NaN</td>\n",
       "      <td>NaN</td>\n",
       "      <td>NaN</td>\n",
       "      <td>NaN</td>\n",
       "      <td>NaN</td>\n",
       "      <td>NaN</td>\n",
       "    </tr>\n",
       "    <tr>\n",
       "      <th>Method</th>\n",
       "      <td>45.0</td>\n",
       "      <td>3.0</td>\n",
       "      <td>1.0</td>\n",
       "      <td>15.0</td>\n",
       "      <td>NaN</td>\n",
       "      <td>NaN</td>\n",
       "      <td>NaN</td>\n",
       "      <td>NaN</td>\n",
       "      <td>NaN</td>\n",
       "      <td>NaN</td>\n",
       "      <td>NaN</td>\n",
       "    </tr>\n",
       "    <tr>\n",
       "      <th>Alloy</th>\n",
       "      <td>45.0</td>\n",
       "      <td>1.0</td>\n",
       "      <td>1.0</td>\n",
       "      <td>45.0</td>\n",
       "      <td>NaN</td>\n",
       "      <td>NaN</td>\n",
       "      <td>NaN</td>\n",
       "      <td>NaN</td>\n",
       "      <td>NaN</td>\n",
       "      <td>NaN</td>\n",
       "      <td>NaN</td>\n",
       "    </tr>\n",
       "    <tr>\n",
       "      <th>Temp</th>\n",
       "      <td>45.0</td>\n",
       "      <td>3.0</td>\n",
       "      <td>1500.0</td>\n",
       "      <td>15.0</td>\n",
       "      <td>NaN</td>\n",
       "      <td>NaN</td>\n",
       "      <td>NaN</td>\n",
       "      <td>NaN</td>\n",
       "      <td>NaN</td>\n",
       "      <td>NaN</td>\n",
       "      <td>NaN</td>\n",
       "    </tr>\n",
       "    <tr>\n",
       "      <th>Response</th>\n",
       "      <td>45.0</td>\n",
       "      <td>NaN</td>\n",
       "      <td>NaN</td>\n",
       "      <td>NaN</td>\n",
       "      <td>707.488889</td>\n",
       "      <td>121.194551</td>\n",
       "      <td>289.0</td>\n",
       "      <td>681.0</td>\n",
       "      <td>743.0</td>\n",
       "      <td>782.0</td>\n",
       "      <td>882.0</td>\n",
       "    </tr>\n",
       "  </tbody>\n",
       "</table>\n",
       "</div>"
      ],
      "text/plain": [
       "          count  unique     top  freq        mean         std    min    25%  \\\n",
       "Dentist    45.0     5.0     1.0   9.0         NaN         NaN    NaN    NaN   \n",
       "Method     45.0     3.0     1.0  15.0         NaN         NaN    NaN    NaN   \n",
       "Alloy      45.0     1.0     1.0  45.0         NaN         NaN    NaN    NaN   \n",
       "Temp       45.0     3.0  1500.0  15.0         NaN         NaN    NaN    NaN   \n",
       "Response   45.0     NaN     NaN   NaN  707.488889  121.194551  289.0  681.0   \n",
       "\n",
       "            50%    75%    max  \n",
       "Dentist     NaN    NaN    NaN  \n",
       "Method      NaN    NaN    NaN  \n",
       "Alloy       NaN    NaN    NaN  \n",
       "Temp        NaN    NaN    NaN  \n",
       "Response  743.0  782.0  882.0  "
      ]
     },
     "execution_count": 31,
     "metadata": {},
     "output_type": "execute_result"
    }
   ],
   "source": [
    "#dental_alloy1 = pd.DataFrame(data = [dental[dental['Alloy'] == 1]['Dentist'], dental[dental['Alloy'] == 1]['Response']]).T\n",
    "\n",
    "dental_alloy1 = pd.DataFrame(data = dental[dental['Alloy'] == 1])\n",
    "\n",
    "dental_alloy1.reset_index(drop = True, inplace = True)\n",
    "\n",
    "dental_alloy1.describe(include = 'all').T\n",
    "#perform one way anova on dental_alloy1"
   ]
  },
  {
   "cell_type": "code",
   "execution_count": 32,
   "id": "313c65a7",
   "metadata": {
    "scrolled": true
   },
   "outputs": [
    {
     "data": {
      "text/html": [
       "<div>\n",
       "<style scoped>\n",
       "    .dataframe tbody tr th:only-of-type {\n",
       "        vertical-align: middle;\n",
       "    }\n",
       "\n",
       "    .dataframe tbody tr th {\n",
       "        vertical-align: top;\n",
       "    }\n",
       "\n",
       "    .dataframe thead th {\n",
       "        text-align: right;\n",
       "    }\n",
       "</style>\n",
       "<table border=\"1\" class=\"dataframe\">\n",
       "  <thead>\n",
       "    <tr style=\"text-align: right;\">\n",
       "      <th></th>\n",
       "      <th>count</th>\n",
       "      <th>unique</th>\n",
       "      <th>top</th>\n",
       "      <th>freq</th>\n",
       "      <th>mean</th>\n",
       "      <th>std</th>\n",
       "      <th>min</th>\n",
       "      <th>25%</th>\n",
       "      <th>50%</th>\n",
       "      <th>75%</th>\n",
       "      <th>max</th>\n",
       "    </tr>\n",
       "  </thead>\n",
       "  <tbody>\n",
       "    <tr>\n",
       "      <th>Dentist</th>\n",
       "      <td>45.0</td>\n",
       "      <td>5.0</td>\n",
       "      <td>1.0</td>\n",
       "      <td>9.0</td>\n",
       "      <td>NaN</td>\n",
       "      <td>NaN</td>\n",
       "      <td>NaN</td>\n",
       "      <td>NaN</td>\n",
       "      <td>NaN</td>\n",
       "      <td>NaN</td>\n",
       "      <td>NaN</td>\n",
       "    </tr>\n",
       "    <tr>\n",
       "      <th>Method</th>\n",
       "      <td>45.0</td>\n",
       "      <td>3.0</td>\n",
       "      <td>1.0</td>\n",
       "      <td>15.0</td>\n",
       "      <td>NaN</td>\n",
       "      <td>NaN</td>\n",
       "      <td>NaN</td>\n",
       "      <td>NaN</td>\n",
       "      <td>NaN</td>\n",
       "      <td>NaN</td>\n",
       "      <td>NaN</td>\n",
       "    </tr>\n",
       "    <tr>\n",
       "      <th>Alloy</th>\n",
       "      <td>45.0</td>\n",
       "      <td>1.0</td>\n",
       "      <td>2.0</td>\n",
       "      <td>45.0</td>\n",
       "      <td>NaN</td>\n",
       "      <td>NaN</td>\n",
       "      <td>NaN</td>\n",
       "      <td>NaN</td>\n",
       "      <td>NaN</td>\n",
       "      <td>NaN</td>\n",
       "      <td>NaN</td>\n",
       "    </tr>\n",
       "    <tr>\n",
       "      <th>Temp</th>\n",
       "      <td>45.0</td>\n",
       "      <td>3.0</td>\n",
       "      <td>1500.0</td>\n",
       "      <td>15.0</td>\n",
       "      <td>NaN</td>\n",
       "      <td>NaN</td>\n",
       "      <td>NaN</td>\n",
       "      <td>NaN</td>\n",
       "      <td>NaN</td>\n",
       "      <td>NaN</td>\n",
       "      <td>NaN</td>\n",
       "    </tr>\n",
       "    <tr>\n",
       "      <th>Response</th>\n",
       "      <td>45.0</td>\n",
       "      <td>NaN</td>\n",
       "      <td>NaN</td>\n",
       "      <td>NaN</td>\n",
       "      <td>776.066667</td>\n",
       "      <td>160.892595</td>\n",
       "      <td>312.0</td>\n",
       "      <td>715.0</td>\n",
       "      <td>824.0</td>\n",
       "      <td>858.0</td>\n",
       "      <td>1115.0</td>\n",
       "    </tr>\n",
       "  </tbody>\n",
       "</table>\n",
       "</div>"
      ],
      "text/plain": [
       "          count  unique     top  freq        mean         std    min    25%  \\\n",
       "Dentist    45.0     5.0     1.0   9.0         NaN         NaN    NaN    NaN   \n",
       "Method     45.0     3.0     1.0  15.0         NaN         NaN    NaN    NaN   \n",
       "Alloy      45.0     1.0     2.0  45.0         NaN         NaN    NaN    NaN   \n",
       "Temp       45.0     3.0  1500.0  15.0         NaN         NaN    NaN    NaN   \n",
       "Response   45.0     NaN     NaN   NaN  776.066667  160.892595  312.0  715.0   \n",
       "\n",
       "            50%    75%     max  \n",
       "Dentist     NaN    NaN     NaN  \n",
       "Method      NaN    NaN     NaN  \n",
       "Alloy       NaN    NaN     NaN  \n",
       "Temp        NaN    NaN     NaN  \n",
       "Response  824.0  858.0  1115.0  "
      ]
     },
     "execution_count": 32,
     "metadata": {},
     "output_type": "execute_result"
    }
   ],
   "source": [
    "dental_alloy2 = pd.DataFrame(data = dental[dental['Alloy'] == 2])\n",
    "\n",
    "dental_alloy2.reset_index(drop = True, inplace = True)\n",
    "\n",
    "dental_alloy2.describe(include = 'all').T"
   ]
  },
  {
   "cell_type": "markdown",
   "id": "3899823e",
   "metadata": {},
   "source": [
    "#7.1\n",
    "\n",
    "\n",
    "null hypothesis: mu1 = mu2 = mu3 = mu4 = mu5\n",
    "\n",
    "\n",
    "alternate hypothesis: not null hypothesis"
   ]
  },
  {
   "cell_type": "code",
   "execution_count": 33,
   "id": "4ea314e6",
   "metadata": {},
   "outputs": [
    {
     "name": "stdout",
     "output_type": "stream",
     "text": [
      "              df         sum_sq       mean_sq         F    PR(>F)\n",
      "C(Dentist)   4.0  106683.688889  26670.922222  1.977112  0.116567\n",
      "Residual    40.0  539593.555556  13489.838889       NaN       NaN\n"
     ]
    }
   ],
   "source": [
    "formula = 'Response ~ C(Dentist)'\n",
    "model = ols(formula, dental_alloy1).fit()\n",
    "aov_table = anova_lm(model)\n",
    "print(aov_table)"
   ]
  },
  {
   "cell_type": "code",
   "execution_count": 35,
   "id": "a1005753",
   "metadata": {},
   "outputs": [
    {
     "name": "stdout",
     "output_type": "stream",
     "text": [
      "              df        sum_sq       mean_sq         F    PR(>F)\n",
      "C(Dentist)   4.0  5.679791e+04  14199.477778  0.524835  0.718031\n",
      "Residual    40.0  1.082205e+06  27055.122222       NaN       NaN\n"
     ]
    }
   ],
   "source": [
    "#perform one way anova on dental_alloy2\n",
    "formula = 'Response ~ C(Dentist)'\n",
    "model = ols(formula, dental_alloy2).fit()\n",
    "aov_table = anova_lm(model)\n",
    "print(aov_table)"
   ]
  },
  {
   "cell_type": "markdown",
   "id": "8095a730",
   "metadata": {},
   "source": [
    "#7.2 - comment only about this - if the assumptions are satisfied or not for the above two tables."
   ]
  },
  {
   "cell_type": "markdown",
   "id": "e40c45e0",
   "metadata": {},
   "source": [
    "#7.3 says even if the assumptions to perform ANOVA on above two dataframes has not been satisfied, continue ANOVA on them and describe the results.\n",
    "\n",
    "For alloy type1:\n",
    "Pr(>F) is 0.11 which is greater than 0.05, we fail to reject null hypothesis.\n",
    "\n",
    "\n",
    "For alloy type2:\n",
    "Pr(>F) is 0.71 which is greater than 0.05, we fail to reject null hypothesis.\n",
    "\n",
    "\n",
    "The means of Responses are same with different dentists for alloy types 1 and 2 as well."
   ]
  },
  {
   "cell_type": "code",
   "execution_count": 37,
   "id": "76137173",
   "metadata": {},
   "outputs": [],
   "source": [
    "#7.4 - do the same for method as done for dentists above"
   ]
  },
  {
   "cell_type": "code",
   "execution_count": 38,
   "id": "a805053f",
   "metadata": {},
   "outputs": [
    {
     "name": "stdout",
     "output_type": "stream",
     "text": [
      "             df         sum_sq       mean_sq         F    PR(>F)\n",
      "C(Method)   2.0  148472.177778  74236.088889  6.263327  0.004163\n",
      "Residual   42.0  497805.066667  11852.501587       NaN       NaN\n"
     ]
    }
   ],
   "source": [
    "#perform one way anova on dental_alloy2\n",
    "formula = 'Response ~ C(Method)'\n",
    "model = ols(formula, dental_alloy1).fit()\n",
    "aov_table = anova_lm(model)\n",
    "print(aov_table)"
   ]
  },
  {
   "cell_type": "code",
   "execution_count": 39,
   "id": "4a3698a2",
   "metadata": {},
   "outputs": [
    {
     "name": "stdout",
     "output_type": "stream",
     "text": [
      "             df    sum_sq        mean_sq        F    PR(>F)\n",
      "C(Method)   2.0  499640.4  249820.200000  16.4108  0.000005\n",
      "Residual   42.0  639362.4   15222.914286      NaN       NaN\n"
     ]
    }
   ],
   "source": [
    "formula = 'Response ~ C(Method)'\n",
    "model = ols(formula, dental_alloy2).fit()\n",
    "aov_table = anova_lm(model)\n",
    "print(aov_table)"
   ]
  },
  {
   "cell_type": "markdown",
   "id": "ff8a137c",
   "metadata": {},
   "source": [
    "For alloy type1:\n",
    "Pr(>F) is 0.004 which is greater than 0.05, we reject null hypothesis.\n",
    "\n",
    "\n",
    "For alloy type2:\n",
    "Pr(>F) is 0.000005 which is greater than 0.05, we reject null hypothesis.\n",
    "\n",
    "\n",
    "Atleast one of the pair of means of Responses are different for alloy types 1 and 2 as well."
   ]
  },
  {
   "cell_type": "code",
   "execution_count": 40,
   "id": "73b8d06f",
   "metadata": {},
   "outputs": [],
   "source": [
    "#7.5 temperature levels on the hardness of dental implant"
   ]
  },
  {
   "cell_type": "code",
   "execution_count": 41,
   "id": "159743af",
   "metadata": {},
   "outputs": [
    {
     "name": "stdout",
     "output_type": "stream",
     "text": [
      "            df         sum_sq       mean_sq         F    PR(>F)\n",
      "C(Temp)    2.0   10154.444444   5077.222222  0.335224  0.717074\n",
      "Residual  42.0  636122.800000  15145.780952       NaN       NaN\n"
     ]
    }
   ],
   "source": [
    "formula = 'Response ~ C(Temp)'\n",
    "model = ols(formula, dental_alloy1).fit()\n",
    "aov_table = anova_lm(model)\n",
    "print(aov_table)"
   ]
  },
  {
   "cell_type": "code",
   "execution_count": 42,
   "id": "0ee9397f",
   "metadata": {},
   "outputs": [
    {
     "name": "stdout",
     "output_type": "stream",
     "text": [
      "            df        sum_sq       mean_sq         F    PR(>F)\n",
      "C(Temp)    2.0  9.374893e+04  46874.466667  1.883492  0.164678\n",
      "Residual  42.0  1.045254e+06  24886.996825       NaN       NaN\n"
     ]
    }
   ],
   "source": [
    "formula = 'Response ~ C(Temp)'\n",
    "model = ols(formula, dental_alloy2).fit()\n",
    "aov_table = anova_lm(model)\n",
    "print(aov_table)"
   ]
  },
  {
   "cell_type": "markdown",
   "id": "dd5445b1",
   "metadata": {},
   "source": [
    "For alloy type1:\n",
    "Pr(>F) is 0.11 which is greater than 0.05, we fail to reject null hypothesis.\n",
    "\n",
    "\n",
    "For alloy type2:\n",
    "Pr(>F) is 0.71 which is greater than 0.05, we fail to reject null hypothesis.\n",
    "\n",
    "\n",
    "The means of Responses are same with different temperatures for alloy types 1 and 2 as well."
   ]
  },
  {
   "cell_type": "code",
   "execution_count": 43,
   "id": "8cb6ba5d",
   "metadata": {},
   "outputs": [
    {
     "data": {
      "image/png": "[encoded data removed]",
      "text/plain": [
       "<Figure size 640x480 with 1 Axes>"
      ]
     },
     "metadata": {},
     "output_type": "display_data"
    }
   ],
   "source": [
    "#7.6 interaction effect between dentist and method\n",
    "sns.pointplot(x='Dentist', y='Response', data=dental_alloy1, hue='Method');"
   ]
  },
  {
   "cell_type": "markdown",
   "id": "8493d818",
   "metadata": {},
   "source": [
    "Interaction among different dentists and methods on Responses for alloy type 1:\n",
    "\n",
    "There seems to be high interaction among methods and dentists for methods 1, 2 and 3 with dentists 1,2 and 3"
   ]
  },
  {
   "cell_type": "code",
   "execution_count": 44,
   "id": "07ad24e5",
   "metadata": {},
   "outputs": [
    {
     "data": {
      "image/png": "[encoded data removed]",
      "text/plain": [
       "<Figure size 640x480 with 1 Axes>"
      ]
     },
     "metadata": {},
     "output_type": "display_data"
    }
   ],
   "source": [
    "sns.pointplot(x='Dentist', y='Response', data=dental_alloy2, hue='Method');"
   ]
  },
  {
   "cell_type": "markdown",
   "id": "bd92664a",
   "metadata": {},
   "source": [
    "Interaction among different dentists and methods on Responses for alloy type 2:\n",
    "\n",
    "There seems to be high interaction among methods and dentists for methods 1, 2 with dentists 1,2 and no significant interaction on method 3 among different dentists."
   ]
  },
  {
   "cell_type": "code",
   "execution_count": 131,
   "id": "9126128b",
   "metadata": {},
   "outputs": [],
   "source": [
    "#7.6 to confirm if the conclusions from interaction plots are true"
   ]
  },
  {
   "cell_type": "code",
   "execution_count": 137,
   "id": "8da3de0e",
   "metadata": {
    "scrolled": true
   },
   "outputs": [
    {
     "name": "stdout",
     "output_type": "stream",
     "text": [
      "                   sum_sq    df         F    PR(>F)\n",
      "C(Dentist)  106683.688889   4.0  2.591255  0.051875\n",
      "C(Method)   148472.177778   2.0  7.212522  0.002211\n",
      "Residual    391121.377778  38.0       NaN       NaN\n"
     ]
    }
   ],
   "source": [
    "formula = 'Response ~ C(Dentist) + C(Method)'\n",
    "model  =ols(formula, dental_alloy1).fit()\n",
    "anova_table = (anova_lm(model, typ = 2))\n",
    "print(anova_table)"
   ]
  },
  {
   "cell_type": "code",
   "execution_count": 50,
   "id": "1cd7e043",
   "metadata": {},
   "outputs": [
    {
     "name": "stdout",
     "output_type": "stream",
     "text": [
      "              df         sum_sq        mean_sq          F    PR(>F)\n",
      "C(Dentist)   4.0   56797.911111   14199.477778   0.926215  0.458933\n",
      "C(Method)    2.0  499640.400000  249820.200000  16.295479  0.000008\n",
      "Residual    38.0  582564.488889   15330.644444        NaN       NaN\n"
     ]
    }
   ],
   "source": [
    "formula = 'Response ~ C(Dentist) + C(Method)'\n",
    "model  =ols(formula, dental_alloy2).fit()\n",
    "anova_table = (anova_lm(model, typ = 2))\n",
    "print(anova_table)"
   ]
  },
  {
   "cell_type": "code",
   "execution_count": 134,
   "id": "3a08c1bf",
   "metadata": {},
   "outputs": [
    {
     "name": "stdout",
     "output_type": "stream",
     "text": [
      "                             sum_sq    df          F    PR(>F)\n",
      "C(Dentist)            106683.688889   4.0   3.899638  0.011484\n",
      "C(Method)             148472.177778   2.0  10.854287  0.000284\n",
      "C(Dentist):C(Method)  185941.377778   8.0   3.398383  0.006793\n",
      "Residual              205180.000000  30.0        NaN       NaN\n"
     ]
    }
   ],
   "source": [
    "#7.7 interaction method between dentist and method on Response\n",
    "formula = 'Response ~ C(Dentist) + C(Method) + C(Dentist):C(Method)'\n",
    "model = ols(formula, dental_alloy1).fit()\n",
    "aov_table = anova_lm(model, typ = 2)\n",
    "print(aov_table)"
   ]
  },
  {
   "cell_type": "markdown",
   "id": "6f629e72",
   "metadata": {},
   "source": [
    "Pr(>F) is 0.006 which is less than 0.05. It indicates that the interaction between different dentists and methods on Response variables is significant."
   ]
  },
  {
   "cell_type": "code",
   "execution_count": 46,
   "id": "717e03ee",
   "metadata": {},
   "outputs": [
    {
     "data": {
      "text/plain": [
       "<AxesSubplot:xlabel='Dentist', ylabel='Response'>"
      ]
     },
     "execution_count": 46,
     "metadata": {},
     "output_type": "execute_result"
    },
    {
     "data": {
      "image/png": "[encoded data removed]",
      "text/plain": [
       "<Figure size 640x480 with 1 Axes>"
      ]
     },
     "metadata": {},
     "output_type": "display_data"
    }
   ],
   "source": [
    "sns.pointplot(x='Dentist', y='Response', data=dental_alloy1, hue='Method')"
   ]
  },
  {
   "cell_type": "code",
   "execution_count": 47,
   "id": "2eda7928",
   "metadata": {},
   "outputs": [
    {
     "name": "stdout",
     "output_type": "stream",
     "text": [
      "                             sum_sq    df          F    PR(>F)\n",
      "C(Dentist)             56797.911111   4.0   1.106152  0.371833\n",
      "C(Method)             499640.400000   2.0  19.461218  0.000004\n",
      "C(Dentist):C(Method)  197459.822222   8.0   1.922787  0.093234\n",
      "Residual              385104.666667  30.0        NaN       NaN\n"
     ]
    }
   ],
   "source": [
    "#7.7 interaction method between dentist and method on Response\n",
    "formula = 'Response ~ C(Dentist) + C(Method) + C(Dentist):C(Method)'\n",
    "model = ols(formula, dental_alloy2).fit()\n",
    "aov_table = anova_lm(model, typ = 2)\n",
    "print(aov_table)"
   ]
  },
  {
   "cell_type": "markdown",
   "id": "46c13404",
   "metadata": {},
   "source": [
    "Pr(>F) is 0.09 which is greater than 0.05. It indicates that the interaction between different dentists and methods on Response variables is not that significant."
   ]
  },
  {
   "cell_type": "code",
   "execution_count": 49,
   "id": "258b563b",
   "metadata": {},
   "outputs": [
    {
     "data": {
      "text/plain": [
       "<AxesSubplot:xlabel='Dentist', ylabel='Response'>"
      ]
     },
     "execution_count": 49,
     "metadata": {},
     "output_type": "execute_result"
    },
    {
     "data": {
      "image/png": "[encoded data removed]",
      "text/plain": [
       "<Figure size 640x480 with 1 Axes>"
      ]
     },
     "metadata": {},
     "output_type": "display_data"
    }
   ],
   "source": [
    "sns.pointplot(x='Dentist', y='Response', data=dental_alloy2, hue='Method')"
   ]
  },
  {
   "cell_type": "code",
   "execution_count": null,
   "id": "1ee0d96e",
   "metadata": {},
   "outputs": [],
   "source": []
  },
  {
   "cell_type": "code",
   "execution_count": null,
   "id": "2b385fd4",
   "metadata": {},
   "outputs": [],
   "source": []
  }
 ],
 "metadata": {
  "kernelspec": {
   "display_name": "Python 3 (ipykernel)",
   "language": "python",
   "name": "python3"
  },
  "language_info": {
   "codemirror_mode": {
    "name": "ipython",
    "version": 3
   },
   "file_extension": ".py",
   "mimetype": "text/x-python",
   "name": "python",
   "nbconvert_exporter": "python",
   "pygments_lexer": "ipython3",
   "version": "3.9.13"
  }
 },
 "nbformat": 4,
 "nbformat_minor": 5
}
