{
 "cells": [
  {
   "cell_type": "markdown",
   "id": "6a7d5404",
   "metadata": {
    "id": "6a7d5404"
   },
   "source": [
    "<font color='blue'>\n",
    "    <font size = 5>\n",
    "        You have been given the role of a business analyst for an E-Commerce company and have been asked to prepare a basic report on the data. Follow the steps below for preparation of the report. \n",
    "\n",
    "Before you start analysing the data, it is always a good practice to see the size of the data, its features and feature types. If the data set is big, it is not possible to print out all the records. \n",
    "    </font>\n",
    "####  Note: Use the markdown feature of Python to explain your answer.\n",
    "    "
   ]
  },
  {
   "cell_type": "markdown",
   "id": "daf5d935",
   "metadata": {
    "id": "daf5d935"
   },
   "source": [
    "## Load the necessary libraries. Import and load the dataset with a name ECom_Data ."
   ]
  },
  {
   "cell_type": "code",
   "execution_count": 4,
   "id": "eec2a3b5",
   "metadata": {
    "colab": {
     "base_uri": "https://localhost:8080/"
    },
    "executionInfo": {
     "elapsed": 6398,
     "status": "ok",
     "timestamp": 1671470868125,
     "user": {
      "displayName": "yamini yedupati",
      "userId": "02403385729764029169"
     },
     "user_tz": -330
    },
    "id": "eec2a3b5",
    "outputId": "553c915f-fab2-48e5-f5e5-e56bc3e37b35"
   },
   "outputs": [],
   "source": [
    "import numpy as np\n",
    "import pandas as pd\n",
    "import matplotlib.pyplot as plt\n",
    "import seaborn as sns\n",
    "pd.options.display.max_rows = 10\n",
    "\n",
    "%matplotlib inline\n"
   ]
  },
  {
   "cell_type": "code",
   "execution_count": 5,
   "id": "8e1fcc97",
   "metadata": {
    "id": "8e1fcc97"
   },
   "outputs": [],
   "source": [
    "# Get the Data\n",
    "ECom_Data=pd.read_csv(\"E-Commerce.csv\")\n"
   ]
  },
  {
   "cell_type": "markdown",
   "id": "2cf5f20f",
   "metadata": {
    "id": "2cf5f20f"
   },
   "source": [
    "<font color='blue'>\n",
    "    <font size = 5>\n",
    "        We have read the data and stored the data in \"ECom_Data\" variable </font>"
   ]
  },
  {
   "cell_type": "markdown",
   "id": "a0a4f84a",
   "metadata": {
    "id": "a0a4f84a"
   },
   "source": [
    "## Q 1.\tTo get familiar with the data\n",
    "## a)\tPrint out the first 10 and the last 10 records of the data. (2 marks)\n",
    "## b)\tHow many rows and columns are present in the dataset? Use any two different methods to extract this information. (2 + 2 + 2 marks)\n",
    "## c)\tHow many object data types are there? (1 mark)\n",
    "## d)\tIs there any Boolean data type? (1 mark) \n",
    "#### Note: Use the markdown feature of Python to explain your answer.\n"
   ]
  },
  {
   "cell_type": "markdown",
   "id": "0ba43d74",
   "metadata": {
    "id": "0ba43d74"
   },
   "source": [
    "#### Ans 1 a) head(10) and tail(10) are the functions used to retrieve first 10 and last 10 records of dataset"
   ]
  },
  {
   "cell_type": "code",
   "execution_count": 6,
   "id": "6684f5a1",
   "metadata": {
    "colab": {
     "base_uri": "https://localhost:8080/"
    },
    "executionInfo": {
     "elapsed": 434,
     "status": "ok",
     "timestamp": 1671471045348,
     "user": {
      "displayName": "yamini yedupati",
      "userId": "02403385729764029169"
     },
     "user_tz": -330
    },
    "id": "6684f5a1",
    "outputId": "b521e7e5-6fe7-4207-dabe-7e548ed34ae8"
   },
   "outputs": [
    {
     "name": "stdout",
     "output_type": "stream",
     "text": [
      "First 10 records of the data are shown below\n",
      "                   Customer_uniq_id Region  Order_Date Expected_Delivery_Date  \\\n",
      "0  e71017e224688489edfe856f2308806d  East   24-10-2021             25-10-2021   \n",
      "1  6286847ee2da18f587503db49511c539  East   24-10-2021             25-10-2021   \n",
      "2  0686fec9b70e5039583a38119ca0c835   West  24-10-2021             25-10-2021   \n",
      "3  ea2406dc597bee2abb6b867fa668501f   West  24-10-2021             25-10-2021   \n",
      "4  5935ed077915347dc695744df68c565c  East   03-09-2021             04-09-2021   \n",
      "5  89fcdddaad50084e395d0928a7426afe  East   03-09-2021             04-09-2021   \n",
      "6  b9b183aa18d3a721d2ac23e7184525b0  East   03-09-2021             04-09-2021   \n",
      "7  dee64864c0419bec80fbbb94d19bc40d  East   03-09-2021             04-09-2021   \n",
      "8  595f55f2c1293f07ea9ec9fa2bb39f46  East   03-09-2021             04-09-2021   \n",
      "9  547b6585272473ae006bcfbdb47b6ae0   West  26-08-2021             27-08-2021   \n",
      "\n",
      "  Delivered_Date                                       product_name  \\\n",
      "0     25-10-2021  Indcrown Net Embroidered Semi-stitched Lehenga...   \n",
      "1     25-10-2021      Shopmania Music Band A5 Notebook Spiral Bound   \n",
      "2     25-10-2021      Shopmania Music Band A5 Notebook Spiral Bound   \n",
      "3     25-10-2021  Tiara Diaries 2016-2017 Designer LA Kaarta \"TA...   \n",
      "4     04-09-2021                KAJCI Embroidered Women's Waistcoat   \n",
      "5     04-09-2021  Packman 8 x 10 inches Security Bags Without PO...   \n",
      "6     04-09-2021          Pick Pocket Embroidered Women's Waistcoat   \n",
      "7     04-09-2021                        Angelfish Silk Potali Potli   \n",
      "8     04-09-2021                                 Oye Boy's Dungaree   \n",
      "9     27-08-2021                                Nuride Canvas Shoes   \n",
      "\n",
      "    product_main_category    product_subcategory    product_category_filter  \\\n",
      "0               Clothing       Women's Clothing                Ethnic Wear    \n",
      "1      Pens & Stationery    Diaries & Notebooks                  Notebooks    \n",
      "2      Pens & Stationery    Diaries & Notebooks                  Notebooks    \n",
      "3      Pens & Stationery    Diaries & Notebooks                  Notebooks    \n",
      "4               Clothing       Women's Clothing                Formal Wear    \n",
      "5      Pens & Stationery        Office Supplies    Packaging Security Bags    \n",
      "6               Clothing       Women's Clothing                Formal Wear    \n",
      "7  Bags, Wallets & Belts                   Bags         Pouches and Potlis    \n",
      "8               Clothing         Kids' Clothing                  Boys Wear    \n",
      "9               Footwear       Women's Footwear               Casual Shoes    \n",
      "\n",
      "          product_category_subfilter product_unique ID  retail_price  \\\n",
      "0                            Fabric   FABEJX2NHNKCYHKA           999   \n",
      "1                          Designer   DIAEJ6Z8BEDTGGYY           499   \n",
      "2                          Designer   DIAEJ6Z8KQFWDEGH           499   \n",
      "3                          Designer   DIAEJ8FGHZ3K86JU          1000   \n",
      "4                        Waistcoats   WSCEG2FYDYFDSVZ6          1200   \n",
      "5   Packman Packaging Security Bags   PKBEGBTRKKHU26YQ           350   \n",
      "6                        Waistcoats   WSCEFUV4TVWT73ZB           899   \n",
      "7      Angelfish Pouches and Potlis   PPSEGFYAGD8FYUXV           999   \n",
      "8             Dungarees & Jumpsuits   DRPEF2XSFBAP4SUZ           899   \n",
      "9                            Canvas   SHOEGVQCT2ZSGUHY          1999   \n",
      "\n",
      "   discounted_price  product_rating          Brand  \\\n",
      "0               699             4.0       Indcrown   \n",
      "1               275             1.0      Shopmania   \n",
      "2               275             2.0      Shopmania   \n",
      "3               837             3.0  Tiara Diaries   \n",
      "4               699             5.0          KAJCI   \n",
      "5               298             4.0        Packman   \n",
      "6               899             1.0    Pick Pocket   \n",
      "7               399             4.0      Angelfish   \n",
      "8               764             1.0            Oye   \n",
      "9              1349             2.0         Nuride   \n",
      "\n",
      "                              product_specifications  \\\n",
      "0  {\"product_specification\"=>[{\"key\"=>\"Fabric\", \"...   \n",
      "1  {\"product_specification\"=>[{\"key\"=>\"Ruling\", \"...   \n",
      "2  {\"product_specification\"=>[{\"key\"=>\"Ruling\", \"...   \n",
      "3  {\"product_specification\"=>[{\"key\"=>\"Ruling\", \"...   \n",
      "4  {\"product_specification\"=>[{\"key\"=>\"Pattern\", ...   \n",
      "5  {\"product_specification\"=>[{\"key\"=>\"Bubble Wra...   \n",
      "6  {\"product_specification\"=>[{\"key\"=>\"Pattern\", ...   \n",
      "7  {\"product_specification\"=>[{\"key\"=>\"Closure\", ...   \n",
      "8  {\"product_specification\"=>[{\"key\"=>\"Number of ...   \n",
      "9  {\"product_specification\"=>[{\"key\"=>\"Occasion\",...   \n",
      "\n",
      "                                         description  \n",
      "0  Key Features of Indcrown Net Embroidered Semi-...  \n",
      "1  Specifications of Shopmania Music Band A5 Note...  \n",
      "2  Specifications of Shopmania Music Band A5 Note...  \n",
      "3  Specifications of Tiara Diaries 2016-2017 Desi...  \n",
      "4  Specifications of KAJCI Embroidered Women's Wa...  \n",
      "5  Key Features of Packman 8 x 10 inches Security...  \n",
      "6  Specifications of Pick Pocket Embroidered Wome...  \n",
      "7  Angelfish Silk Potali Potli (Multicolor) Price...  \n",
      "8  Specifications of Oye Boy's Dungaree Top Detai...  \n",
      "9  Key Features of Nuride Canvas Shoes Material: ...  \n",
      "Last 10 rows of the dataset are shown below\n",
      "                      Customer_uniq_id Region  Order_Date  \\\n",
      "8896  4db03bc4ccbe216cf151b2f2b904ba3f  East   01-12-2020   \n",
      "8897  4d4d6aeb13fa253499d0dd45a5abd87e   West  01-12-2020   \n",
      "8898  ea19e7ef703293d3f6c799ca9db4642d   West  01-12-2020   \n",
      "8899  19a53a958992fb575acffb5d41e7ef9e  East   01-12-2020   \n",
      "8900  09abab80c8dfdc6f268e0a6f05a0be11  North  01-12-2020   \n",
      "8901  90d30478255e23621e8929ed15c2f6e4  South  01-12-2020   \n",
      "8902  20a73e3f41490a73ceeba5f17658db8f   West  01-12-2020   \n",
      "8903  5c1554cd45f9d538c2c6947dbdd59c75  East   01-12-2020   \n",
      "8904  6b737a4deca1ed0e56c179e66036e994   West  01-12-2020   \n",
      "8905  a5235ac28d3d5487f54025f9d6b57433  North  01-12-2020   \n",
      "\n",
      "     Expected_Delivery_Date Delivered_Date  \\\n",
      "8896             04-12-2020     04-12-2020   \n",
      "8897             04-12-2020     04-12-2020   \n",
      "8898             04-12-2020     04-12-2020   \n",
      "8899             04-12-2020     04-12-2020   \n",
      "8900             04-12-2020     04-12-2020   \n",
      "8901             04-12-2020     04-12-2020   \n",
      "8902             04-12-2020     04-12-2020   \n",
      "8903             04-12-2020     04-12-2020   \n",
      "8904             04-12-2020     04-12-2020   \n",
      "8905             04-12-2020     04-12-2020   \n",
      "\n",
      "                                           product_name product_main_category  \\\n",
      "8896                           Luca Fashion Girls Heels             Footwear    \n",
      "8897                            Shoetopia Girls Sandals             Footwear    \n",
      "8898                        SMART TRADERS Girls Sandals             Footwear    \n",
      "8899                                  Beanz Girls Flats             Footwear    \n",
      "8900                       Nova KT 728S Electric Kettle       Home & Kitchen    \n",
      "8901  Sinina Chanderi Embroidered Salwar Suit Dupatt...             Clothing    \n",
      "8902  Aarushi Fashion Chanderi Embroidered Salwar Su...             Clothing    \n",
      "8903  Ambika Lahenga Embroidered Lehenga, Choli and ...             Clothing    \n",
      "8904  Sinina Chanderi Embroidered Salwar Suit Dupatt...             Clothing    \n",
      "8905  Aarushi Fashion Silk Striped Salwar Suit Dupat...             Clothing    \n",
      "\n",
      "            product_subcategory                product_category_filter  \\\n",
      "8896   Kids' & Infant Footwear                              For Girls    \n",
      "8897   Kids' & Infant Footwear                              For Girls    \n",
      "8898   Kids' & Infant Footwear                              For Girls    \n",
      "8899   Kids' & Infant Footwear                              For Girls    \n",
      "8900        Kitchen Appliances    Electric Jug(heater)/Travel Kettles    \n",
      "8901          Women's Clothing                            Ethnic Wear    \n",
      "8902          Women's Clothing                            Ethnic Wear    \n",
      "8903          Women's Clothing                            Ethnic Wear    \n",
      "8904          Women's Clothing                            Ethnic Wear    \n",
      "8905          Women's Clothing                            Ethnic Wear    \n",
      "\n",
      "                      product_category_subfilter product_unique ID  \\\n",
      "8896                                    Sandals   SNDEHG3DNVBFGAT5   \n",
      "8897                                    Sandals   SNDEG7DRWSX8HFXZ   \n",
      "8898                                    Sandals   SNDEG7MZHHKZ58D2   \n",
      "8899                                    Sandals   SNDEG7DYVFWHZBC4   \n",
      "8900   Nova Electric Jug(heater)/Travel Kettles   EKTDG5C5QSADZZ8J   \n",
      "8901                                     Fabric   FABEGGHHDFMY8BZU   \n",
      "8902                                     Fabric   FABEG8GFDUWRSNU3   \n",
      "8903                             Lehenga Cholis   LEHEGGEHYN4G2RPW   \n",
      "8904                                     Fabric   FABEGGHHGSVCHGFV   \n",
      "8905                                     Fabric   FABEG8GYDAABECZH   \n",
      "\n",
      "      retail_price  discounted_price  product_rating            Brand  \\\n",
      "8896           999               499             4.0     Luca Fashion   \n",
      "8897           499               399             4.0        Shoetopia   \n",
      "8898           999               499             5.0    SMART TRADERS   \n",
      "8899          1299              1299             3.0            Beanz   \n",
      "8900          3195               699             3.6             Nova   \n",
      "8901          2980              1490             3.0           Sinina   \n",
      "8902          2600              1300             1.0  Aarushi Fashion   \n",
      "8903         39992             24995             1.0   Ambika Lahenga   \n",
      "8904          2000              1000             3.0           Sinina   \n",
      "8905          2800              1350             4.0  Aarushi Fashion   \n",
      "\n",
      "                                 product_specifications  \\\n",
      "8896  {\"product_specification\"=>[{\"key\"=>\"Occasion\",...   \n",
      "8897  {\"product_specification\"=>[{\"key\"=>\"Ideal For\"...   \n",
      "8898  {\"product_specification\"=>[{\"key\"=>\"Ideal For\"...   \n",
      "8899  {\"product_specification\"=>[{\"key\"=>\"Occasion\",...   \n",
      "8900  {\"product_specification\"=>[{\"key\"=>\"Brand\", \"v...   \n",
      "8901  {\"product_specification\"=>[{\"key\"=>\"Fabric\", \"...   \n",
      "8902  {\"product_specification\"=>[{\"key\"=>\"Fabric\", \"...   \n",
      "8903  {\"product_specification\"=>[{\"key\"=>\"Fabric\", \"...   \n",
      "8904  {\"product_specification\"=>[{\"key\"=>\"Fabric\", \"...   \n",
      "8905  {\"product_specification\"=>[{\"key\"=>\"Fabric\", \"...   \n",
      "\n",
      "                                            description  \n",
      "8896  Key Features of Luca Fashion Girls Heels Occas...  \n",
      "8897  Key Features of Shoetopia Girls Sandals Flats ...  \n",
      "8898  Key Features of SMART TRADERS Girls Sandals Oc...  \n",
      "8899  Key Features of Beanz Girls Flats Occasion: Ca...  \n",
      "8900  Specifications of Nova KT 728S Electric Kettle...  \n",
      "8901  Key Features of Sinina Chanderi Embroidered Sa...  \n",
      "8902  Key Features of Aarushi Fashion Chanderi Embro...  \n",
      "8903  Key Features of Ambika Lahenga Embroidered Leh...  \n",
      "8904  Key Features of Sinina Chanderi Embroidered Sa...  \n",
      "8905  Key Features of Aarushi Fashion Silk Striped S...  \n"
     ]
    }
   ],
   "source": [
    "print(\"First 10 records of the data are shown below\")\n",
    "print(ECom_Data.head(10))\n",
    "\n",
    "print(\"Last 10 rows of the dataset are shown below\")\n",
    "print(ECom_Data.tail(10))"
   ]
  },
  {
   "cell_type": "markdown",
   "id": "48baeda6",
   "metadata": {
    "id": "48baeda6"
   },
   "source": [
    "#### Ans 1 b) shape and axes are the attributes of pandas object that retrieve number of rows and columns in the dataset. Since they return tuple, they are indexed to get the number of rows and columns present in the dataset."
   ]
  },
  {
   "cell_type": "code",
   "execution_count": 7,
   "id": "0ac3ef5d",
   "metadata": {
    "colab": {
     "base_uri": "https://localhost:8080/"
    },
    "executionInfo": {
     "elapsed": 424,
     "status": "ok",
     "timestamp": 1671471573362,
     "user": {
      "displayName": "yamini yedupati",
      "userId": "02403385729764029169"
     },
     "user_tz": -330
    },
    "id": "0ac3ef5d",
    "outputId": "e40ccbe2-d6cb-4ef1-dab0-c6570aa88009"
   },
   "outputs": [
    {
     "name": "stdout",
     "output_type": "stream",
     "text": [
      "Number of rows in the dataset are 8906\n",
      "Number of columns in the dataset are 17\n",
      "Number of rows in the dataset are 8906\n",
      "Number of columns in the dataset are 17\n"
     ]
    }
   ],
   "source": [
    "print(\"Number of rows in the dataset are\", ECom_Data.shape[0])\n",
    "print(\"Number of columns in the dataset are\", ECom_Data.shape[1])\n",
    "\n",
    "print(\"Number of rows in the dataset are\", len(ECom_Data.axes[0]))\n",
    "print(\"Number of columns in the dataset are\", len(ECom_Data.axes[1]))"
   ]
  },
  {
   "cell_type": "markdown",
   "id": "6aaa54a0",
   "metadata": {
    "id": "6aaa54a0"
   },
   "source": [
    "#### Ans  1 c) grouped the dataypes by object and found the count of the columns that have satisfy object datatype condition to be true"
   ]
  },
  {
   "cell_type": "code",
   "execution_count": 10,
   "id": "b228a0de",
   "metadata": {},
   "outputs": [
    {
     "name": "stdout",
     "output_type": "stream",
     "text": [
      "Number of object data types are 14\n"
     ]
    }
   ],
   "source": [
    "#ans 1c using if condition.\n",
    "datatypes = ECom_Data.dtypes\n",
    "if(len(datatypes)>0):\n",
    "    num_object_types = datatypes.groupby(datatypes == 'object').count()[True]\n",
    "    print('Number of object data types are', num_object_types)\n",
    "else:\n",
    "    print('Datatype \"object\" does not exist in the given database')"
   ]
  },
  {
   "cell_type": "markdown",
   "id": "5e63573c",
   "metadata": {
    "id": "5e63573c"
   },
   "source": [
    "### Ans 1 d) same logic as 1c. Added if condition to print boolean exists if it does."
   ]
  },
  {
   "cell_type": "code",
   "execution_count": 11,
   "id": "2b96d5be",
   "metadata": {
    "colab": {
     "base_uri": "https://localhost:8080/"
    },
    "executionInfo": {
     "elapsed": 455,
     "status": "ok",
     "timestamp": 1671474562820,
     "user": {
      "displayName": "yamini yedupati",
      "userId": "02403385729764029169"
     },
     "user_tz": -330
    },
    "id": "2b96d5be",
    "outputId": "d4b293cc-b75f-4497-c3e6-e2a8441f4f4f"
   },
   "outputs": [
    {
     "name": "stdout",
     "output_type": "stream",
     "text": [
      "Booelan type exists\n"
     ]
    }
   ],
   "source": [
    "datatypes = ECom_Data.dtypes\n",
    "dtcount_boolean = datatypes.groupby(datatypes == 'boolean').count()\n",
    "if(len(dtcount_boolean) >= 1): # there is boolean datatype in the dataset and it's value is atleast 1\n",
    "  print(\"Booelan type exists\")\n",
    "else:\n",
    "  print(\"Boolean type does not exist\")"
   ]
  },
  {
   "cell_type": "markdown",
   "id": "cc5d76f1",
   "metadata": {
    "id": "cc5d76f1"
   },
   "source": [
    "<font color='blue'>\n",
    "    <font size = 5>\n",
    " Once you are familiar with the data, you may decide that not all features are of use to you and you may want to delete the non-informative features (columns)</font>"
   ]
  },
  {
   "cell_type": "markdown",
   "id": "90db65ce",
   "metadata": {
    "id": "90db65ce"
   },
   "source": [
    "## Q 2.\tEliminating the non-informative columns.\n",
    "## a)\tDrop the columns product_specifications and description. (2 marks) \n",
    "## b)\tWhich method or function is used to permanently delete the columns mentioned in part (a)? Write the code explicitly (2 marks)\n",
    "### Note: Use the markdown feature of Python to explain your answer.\n"
   ]
  },
  {
   "cell_type": "markdown",
   "id": "e0e7e762",
   "metadata": {
    "id": "e0e7e762"
   },
   "source": [
    "### Ans 2 a) pd.drop is the function used to drop columns. Argument1 is the list of columns we wish to drop, axis = 0 indicates rows to be dropped, 1 indicates columns to be dropped."
   ]
  },
  {
   "cell_type": "code",
   "execution_count": 12,
   "id": "35ad0821",
   "metadata": {
    "id": "35ad0821"
   },
   "outputs": [
    {
     "data": {
      "text/html": [
       "<div>\n",
       "<style scoped>\n",
       "    .dataframe tbody tr th:only-of-type {\n",
       "        vertical-align: middle;\n",
       "    }\n",
       "\n",
       "    .dataframe tbody tr th {\n",
       "        vertical-align: top;\n",
       "    }\n",
       "\n",
       "    .dataframe thead th {\n",
       "        text-align: right;\n",
       "    }\n",
       "</style>\n",
       "<table border=\"1\" class=\"dataframe\">\n",
       "  <thead>\n",
       "    <tr style=\"text-align: right;\">\n",
       "      <th></th>\n",
       "      <th>Customer_uniq_id</th>\n",
       "      <th>Region</th>\n",
       "      <th>Order_Date</th>\n",
       "      <th>Expected_Delivery_Date</th>\n",
       "      <th>Delivered_Date</th>\n",
       "      <th>product_name</th>\n",
       "      <th>product_main_category</th>\n",
       "      <th>product_subcategory</th>\n",
       "      <th>product_category_filter</th>\n",
       "      <th>product_category_subfilter</th>\n",
       "      <th>product_unique ID</th>\n",
       "      <th>retail_price</th>\n",
       "      <th>discounted_price</th>\n",
       "      <th>product_rating</th>\n",
       "      <th>Brand</th>\n",
       "    </tr>\n",
       "  </thead>\n",
       "  <tbody>\n",
       "    <tr>\n",
       "      <th>0</th>\n",
       "      <td>e71017e224688489edfe856f2308806d</td>\n",
       "      <td>East</td>\n",
       "      <td>24-10-2021</td>\n",
       "      <td>25-10-2021</td>\n",
       "      <td>25-10-2021</td>\n",
       "      <td>Indcrown Net Embroidered Semi-stitched Lehenga...</td>\n",
       "      <td>Clothing</td>\n",
       "      <td>Women's Clothing</td>\n",
       "      <td>Ethnic Wear</td>\n",
       "      <td>Fabric</td>\n",
       "      <td>FABEJX2NHNKCYHKA</td>\n",
       "      <td>999</td>\n",
       "      <td>699</td>\n",
       "      <td>4.0</td>\n",
       "      <td>Indcrown</td>\n",
       "    </tr>\n",
       "    <tr>\n",
       "      <th>1</th>\n",
       "      <td>6286847ee2da18f587503db49511c539</td>\n",
       "      <td>East</td>\n",
       "      <td>24-10-2021</td>\n",
       "      <td>25-10-2021</td>\n",
       "      <td>25-10-2021</td>\n",
       "      <td>Shopmania Music Band A5 Notebook Spiral Bound</td>\n",
       "      <td>Pens &amp; Stationery</td>\n",
       "      <td>Diaries &amp; Notebooks</td>\n",
       "      <td>Notebooks</td>\n",
       "      <td>Designer</td>\n",
       "      <td>DIAEJ6Z8BEDTGGYY</td>\n",
       "      <td>499</td>\n",
       "      <td>275</td>\n",
       "      <td>1.0</td>\n",
       "      <td>Shopmania</td>\n",
       "    </tr>\n",
       "    <tr>\n",
       "      <th>2</th>\n",
       "      <td>0686fec9b70e5039583a38119ca0c835</td>\n",
       "      <td>West</td>\n",
       "      <td>24-10-2021</td>\n",
       "      <td>25-10-2021</td>\n",
       "      <td>25-10-2021</td>\n",
       "      <td>Shopmania Music Band A5 Notebook Spiral Bound</td>\n",
       "      <td>Pens &amp; Stationery</td>\n",
       "      <td>Diaries &amp; Notebooks</td>\n",
       "      <td>Notebooks</td>\n",
       "      <td>Designer</td>\n",
       "      <td>DIAEJ6Z8KQFWDEGH</td>\n",
       "      <td>499</td>\n",
       "      <td>275</td>\n",
       "      <td>2.0</td>\n",
       "      <td>Shopmania</td>\n",
       "    </tr>\n",
       "    <tr>\n",
       "      <th>3</th>\n",
       "      <td>ea2406dc597bee2abb6b867fa668501f</td>\n",
       "      <td>West</td>\n",
       "      <td>24-10-2021</td>\n",
       "      <td>25-10-2021</td>\n",
       "      <td>25-10-2021</td>\n",
       "      <td>Tiara Diaries 2016-2017 Designer LA Kaarta \"TA...</td>\n",
       "      <td>Pens &amp; Stationery</td>\n",
       "      <td>Diaries &amp; Notebooks</td>\n",
       "      <td>Notebooks</td>\n",
       "      <td>Designer</td>\n",
       "      <td>DIAEJ8FGHZ3K86JU</td>\n",
       "      <td>1000</td>\n",
       "      <td>837</td>\n",
       "      <td>3.0</td>\n",
       "      <td>Tiara Diaries</td>\n",
       "    </tr>\n",
       "    <tr>\n",
       "      <th>4</th>\n",
       "      <td>5935ed077915347dc695744df68c565c</td>\n",
       "      <td>East</td>\n",
       "      <td>03-09-2021</td>\n",
       "      <td>04-09-2021</td>\n",
       "      <td>04-09-2021</td>\n",
       "      <td>KAJCI Embroidered Women's Waistcoat</td>\n",
       "      <td>Clothing</td>\n",
       "      <td>Women's Clothing</td>\n",
       "      <td>Formal Wear</td>\n",
       "      <td>Waistcoats</td>\n",
       "      <td>WSCEG2FYDYFDSVZ6</td>\n",
       "      <td>1200</td>\n",
       "      <td>699</td>\n",
       "      <td>5.0</td>\n",
       "      <td>KAJCI</td>\n",
       "    </tr>\n",
       "    <tr>\n",
       "      <th>...</th>\n",
       "      <td>...</td>\n",
       "      <td>...</td>\n",
       "      <td>...</td>\n",
       "      <td>...</td>\n",
       "      <td>...</td>\n",
       "      <td>...</td>\n",
       "      <td>...</td>\n",
       "      <td>...</td>\n",
       "      <td>...</td>\n",
       "      <td>...</td>\n",
       "      <td>...</td>\n",
       "      <td>...</td>\n",
       "      <td>...</td>\n",
       "      <td>...</td>\n",
       "      <td>...</td>\n",
       "    </tr>\n",
       "    <tr>\n",
       "      <th>8901</th>\n",
       "      <td>90d30478255e23621e8929ed15c2f6e4</td>\n",
       "      <td>South</td>\n",
       "      <td>01-12-2020</td>\n",
       "      <td>04-12-2020</td>\n",
       "      <td>04-12-2020</td>\n",
       "      <td>Sinina Chanderi Embroidered Salwar Suit Dupatt...</td>\n",
       "      <td>Clothing</td>\n",
       "      <td>Women's Clothing</td>\n",
       "      <td>Ethnic Wear</td>\n",
       "      <td>Fabric</td>\n",
       "      <td>FABEGGHHDFMY8BZU</td>\n",
       "      <td>2980</td>\n",
       "      <td>1490</td>\n",
       "      <td>3.0</td>\n",
       "      <td>Sinina</td>\n",
       "    </tr>\n",
       "    <tr>\n",
       "      <th>8902</th>\n",
       "      <td>20a73e3f41490a73ceeba5f17658db8f</td>\n",
       "      <td>West</td>\n",
       "      <td>01-12-2020</td>\n",
       "      <td>04-12-2020</td>\n",
       "      <td>04-12-2020</td>\n",
       "      <td>Aarushi Fashion Chanderi Embroidered Salwar Su...</td>\n",
       "      <td>Clothing</td>\n",
       "      <td>Women's Clothing</td>\n",
       "      <td>Ethnic Wear</td>\n",
       "      <td>Fabric</td>\n",
       "      <td>FABEG8GFDUWRSNU3</td>\n",
       "      <td>2600</td>\n",
       "      <td>1300</td>\n",
       "      <td>1.0</td>\n",
       "      <td>Aarushi Fashion</td>\n",
       "    </tr>\n",
       "    <tr>\n",
       "      <th>8903</th>\n",
       "      <td>5c1554cd45f9d538c2c6947dbdd59c75</td>\n",
       "      <td>East</td>\n",
       "      <td>01-12-2020</td>\n",
       "      <td>04-12-2020</td>\n",
       "      <td>04-12-2020</td>\n",
       "      <td>Ambika Lahenga Embroidered Lehenga, Choli and ...</td>\n",
       "      <td>Clothing</td>\n",
       "      <td>Women's Clothing</td>\n",
       "      <td>Ethnic Wear</td>\n",
       "      <td>Lehenga Cholis</td>\n",
       "      <td>LEHEGGEHYN4G2RPW</td>\n",
       "      <td>39992</td>\n",
       "      <td>24995</td>\n",
       "      <td>1.0</td>\n",
       "      <td>Ambika Lahenga</td>\n",
       "    </tr>\n",
       "    <tr>\n",
       "      <th>8904</th>\n",
       "      <td>6b737a4deca1ed0e56c179e66036e994</td>\n",
       "      <td>West</td>\n",
       "      <td>01-12-2020</td>\n",
       "      <td>04-12-2020</td>\n",
       "      <td>04-12-2020</td>\n",
       "      <td>Sinina Chanderi Embroidered Salwar Suit Dupatt...</td>\n",
       "      <td>Clothing</td>\n",
       "      <td>Women's Clothing</td>\n",
       "      <td>Ethnic Wear</td>\n",
       "      <td>Fabric</td>\n",
       "      <td>FABEGGHHGSVCHGFV</td>\n",
       "      <td>2000</td>\n",
       "      <td>1000</td>\n",
       "      <td>3.0</td>\n",
       "      <td>Sinina</td>\n",
       "    </tr>\n",
       "    <tr>\n",
       "      <th>8905</th>\n",
       "      <td>a5235ac28d3d5487f54025f9d6b57433</td>\n",
       "      <td>North</td>\n",
       "      <td>01-12-2020</td>\n",
       "      <td>04-12-2020</td>\n",
       "      <td>04-12-2020</td>\n",
       "      <td>Aarushi Fashion Silk Striped Salwar Suit Dupat...</td>\n",
       "      <td>Clothing</td>\n",
       "      <td>Women's Clothing</td>\n",
       "      <td>Ethnic Wear</td>\n",
       "      <td>Fabric</td>\n",
       "      <td>FABEG8GYDAABECZH</td>\n",
       "      <td>2800</td>\n",
       "      <td>1350</td>\n",
       "      <td>4.0</td>\n",
       "      <td>Aarushi Fashion</td>\n",
       "    </tr>\n",
       "  </tbody>\n",
       "</table>\n",
       "<p>8906 rows × 15 columns</p>\n",
       "</div>"
      ],
      "text/plain": [
       "                      Customer_uniq_id Region  Order_Date  \\\n",
       "0     e71017e224688489edfe856f2308806d  East   24-10-2021   \n",
       "1     6286847ee2da18f587503db49511c539  East   24-10-2021   \n",
       "2     0686fec9b70e5039583a38119ca0c835   West  24-10-2021   \n",
       "3     ea2406dc597bee2abb6b867fa668501f   West  24-10-2021   \n",
       "4     5935ed077915347dc695744df68c565c  East   03-09-2021   \n",
       "...                                ...    ...         ...   \n",
       "8901  90d30478255e23621e8929ed15c2f6e4  South  01-12-2020   \n",
       "8902  20a73e3f41490a73ceeba5f17658db8f   West  01-12-2020   \n",
       "8903  5c1554cd45f9d538c2c6947dbdd59c75  East   01-12-2020   \n",
       "8904  6b737a4deca1ed0e56c179e66036e994   West  01-12-2020   \n",
       "8905  a5235ac28d3d5487f54025f9d6b57433  North  01-12-2020   \n",
       "\n",
       "     Expected_Delivery_Date Delivered_Date  \\\n",
       "0                25-10-2021     25-10-2021   \n",
       "1                25-10-2021     25-10-2021   \n",
       "2                25-10-2021     25-10-2021   \n",
       "3                25-10-2021     25-10-2021   \n",
       "4                04-09-2021     04-09-2021   \n",
       "...                     ...            ...   \n",
       "8901             04-12-2020     04-12-2020   \n",
       "8902             04-12-2020     04-12-2020   \n",
       "8903             04-12-2020     04-12-2020   \n",
       "8904             04-12-2020     04-12-2020   \n",
       "8905             04-12-2020     04-12-2020   \n",
       "\n",
       "                                           product_name product_main_category  \\\n",
       "0     Indcrown Net Embroidered Semi-stitched Lehenga...             Clothing    \n",
       "1         Shopmania Music Band A5 Notebook Spiral Bound    Pens & Stationery    \n",
       "2         Shopmania Music Band A5 Notebook Spiral Bound    Pens & Stationery    \n",
       "3     Tiara Diaries 2016-2017 Designer LA Kaarta \"TA...    Pens & Stationery    \n",
       "4                   KAJCI Embroidered Women's Waistcoat             Clothing    \n",
       "...                                                 ...                   ...   \n",
       "8901  Sinina Chanderi Embroidered Salwar Suit Dupatt...             Clothing    \n",
       "8902  Aarushi Fashion Chanderi Embroidered Salwar Su...             Clothing    \n",
       "8903  Ambika Lahenga Embroidered Lehenga, Choli and ...             Clothing    \n",
       "8904  Sinina Chanderi Embroidered Salwar Suit Dupatt...             Clothing    \n",
       "8905  Aarushi Fashion Silk Striped Salwar Suit Dupat...             Clothing    \n",
       "\n",
       "        product_subcategory product_category_filter  \\\n",
       "0         Women's Clothing             Ethnic Wear    \n",
       "1      Diaries & Notebooks               Notebooks    \n",
       "2      Diaries & Notebooks               Notebooks    \n",
       "3      Diaries & Notebooks               Notebooks    \n",
       "4         Women's Clothing             Formal Wear    \n",
       "...                     ...                     ...   \n",
       "8901      Women's Clothing             Ethnic Wear    \n",
       "8902      Women's Clothing             Ethnic Wear    \n",
       "8903      Women's Clothing             Ethnic Wear    \n",
       "8904      Women's Clothing             Ethnic Wear    \n",
       "8905      Women's Clothing             Ethnic Wear    \n",
       "\n",
       "     product_category_subfilter product_unique ID  retail_price  \\\n",
       "0                       Fabric   FABEJX2NHNKCYHKA           999   \n",
       "1                     Designer   DIAEJ6Z8BEDTGGYY           499   \n",
       "2                     Designer   DIAEJ6Z8KQFWDEGH           499   \n",
       "3                     Designer   DIAEJ8FGHZ3K86JU          1000   \n",
       "4                   Waistcoats   WSCEG2FYDYFDSVZ6          1200   \n",
       "...                         ...               ...           ...   \n",
       "8901                    Fabric   FABEGGHHDFMY8BZU          2980   \n",
       "8902                    Fabric   FABEG8GFDUWRSNU3          2600   \n",
       "8903            Lehenga Cholis   LEHEGGEHYN4G2RPW         39992   \n",
       "8904                    Fabric   FABEGGHHGSVCHGFV          2000   \n",
       "8905                    Fabric   FABEG8GYDAABECZH          2800   \n",
       "\n",
       "      discounted_price  product_rating            Brand  \n",
       "0                  699             4.0         Indcrown  \n",
       "1                  275             1.0        Shopmania  \n",
       "2                  275             2.0        Shopmania  \n",
       "3                  837             3.0    Tiara Diaries  \n",
       "4                  699             5.0            KAJCI  \n",
       "...                ...             ...              ...  \n",
       "8901              1490             3.0           Sinina  \n",
       "8902              1300             1.0  Aarushi Fashion  \n",
       "8903             24995             1.0   Ambika Lahenga  \n",
       "8904              1000             3.0           Sinina  \n",
       "8905              1350             4.0  Aarushi Fashion  \n",
       "\n",
       "[8906 rows x 15 columns]"
      ]
     },
     "execution_count": 12,
     "metadata": {},
     "output_type": "execute_result"
    }
   ],
   "source": [
    "ECom_Data.drop(['product_specifications', 'description'], axis = 1)"
   ]
  },
  {
   "cell_type": "markdown",
   "id": "e6159f6a",
   "metadata": {
    "id": "e6159f6a"
   },
   "source": [
    "### Ans 2 b) drop function in pandas dataframe with argument inplace set to 'True' is used to delete columns permanently from the dataset."
   ]
  },
  {
   "cell_type": "code",
   "execution_count": 13,
   "id": "47a63265",
   "metadata": {
    "id": "47a63265"
   },
   "outputs": [
    {
     "data": {
      "text/html": [
       "<div>\n",
       "<style scoped>\n",
       "    .dataframe tbody tr th:only-of-type {\n",
       "        vertical-align: middle;\n",
       "    }\n",
       "\n",
       "    .dataframe tbody tr th {\n",
       "        vertical-align: top;\n",
       "    }\n",
       "\n",
       "    .dataframe thead th {\n",
       "        text-align: right;\n",
       "    }\n",
       "</style>\n",
       "<table border=\"1\" class=\"dataframe\">\n",
       "  <thead>\n",
       "    <tr style=\"text-align: right;\">\n",
       "      <th></th>\n",
       "      <th>Customer_uniq_id</th>\n",
       "      <th>Region</th>\n",
       "      <th>Order_Date</th>\n",
       "      <th>Expected_Delivery_Date</th>\n",
       "      <th>Delivered_Date</th>\n",
       "      <th>product_name</th>\n",
       "      <th>product_main_category</th>\n",
       "      <th>product_subcategory</th>\n",
       "      <th>product_category_filter</th>\n",
       "      <th>product_category_subfilter</th>\n",
       "      <th>product_unique ID</th>\n",
       "      <th>retail_price</th>\n",
       "      <th>discounted_price</th>\n",
       "      <th>product_rating</th>\n",
       "      <th>Brand</th>\n",
       "    </tr>\n",
       "  </thead>\n",
       "  <tbody>\n",
       "    <tr>\n",
       "      <th>0</th>\n",
       "      <td>e71017e224688489edfe856f2308806d</td>\n",
       "      <td>East</td>\n",
       "      <td>24-10-2021</td>\n",
       "      <td>25-10-2021</td>\n",
       "      <td>25-10-2021</td>\n",
       "      <td>Indcrown Net Embroidered Semi-stitched Lehenga...</td>\n",
       "      <td>Clothing</td>\n",
       "      <td>Women's Clothing</td>\n",
       "      <td>Ethnic Wear</td>\n",
       "      <td>Fabric</td>\n",
       "      <td>FABEJX2NHNKCYHKA</td>\n",
       "      <td>999</td>\n",
       "      <td>699</td>\n",
       "      <td>4.0</td>\n",
       "      <td>Indcrown</td>\n",
       "    </tr>\n",
       "    <tr>\n",
       "      <th>1</th>\n",
       "      <td>6286847ee2da18f587503db49511c539</td>\n",
       "      <td>East</td>\n",
       "      <td>24-10-2021</td>\n",
       "      <td>25-10-2021</td>\n",
       "      <td>25-10-2021</td>\n",
       "      <td>Shopmania Music Band A5 Notebook Spiral Bound</td>\n",
       "      <td>Pens &amp; Stationery</td>\n",
       "      <td>Diaries &amp; Notebooks</td>\n",
       "      <td>Notebooks</td>\n",
       "      <td>Designer</td>\n",
       "      <td>DIAEJ6Z8BEDTGGYY</td>\n",
       "      <td>499</td>\n",
       "      <td>275</td>\n",
       "      <td>1.0</td>\n",
       "      <td>Shopmania</td>\n",
       "    </tr>\n",
       "    <tr>\n",
       "      <th>2</th>\n",
       "      <td>0686fec9b70e5039583a38119ca0c835</td>\n",
       "      <td>West</td>\n",
       "      <td>24-10-2021</td>\n",
       "      <td>25-10-2021</td>\n",
       "      <td>25-10-2021</td>\n",
       "      <td>Shopmania Music Band A5 Notebook Spiral Bound</td>\n",
       "      <td>Pens &amp; Stationery</td>\n",
       "      <td>Diaries &amp; Notebooks</td>\n",
       "      <td>Notebooks</td>\n",
       "      <td>Designer</td>\n",
       "      <td>DIAEJ6Z8KQFWDEGH</td>\n",
       "      <td>499</td>\n",
       "      <td>275</td>\n",
       "      <td>2.0</td>\n",
       "      <td>Shopmania</td>\n",
       "    </tr>\n",
       "    <tr>\n",
       "      <th>3</th>\n",
       "      <td>ea2406dc597bee2abb6b867fa668501f</td>\n",
       "      <td>West</td>\n",
       "      <td>24-10-2021</td>\n",
       "      <td>25-10-2021</td>\n",
       "      <td>25-10-2021</td>\n",
       "      <td>Tiara Diaries 2016-2017 Designer LA Kaarta \"TA...</td>\n",
       "      <td>Pens &amp; Stationery</td>\n",
       "      <td>Diaries &amp; Notebooks</td>\n",
       "      <td>Notebooks</td>\n",
       "      <td>Designer</td>\n",
       "      <td>DIAEJ8FGHZ3K86JU</td>\n",
       "      <td>1000</td>\n",
       "      <td>837</td>\n",
       "      <td>3.0</td>\n",
       "      <td>Tiara Diaries</td>\n",
       "    </tr>\n",
       "    <tr>\n",
       "      <th>4</th>\n",
       "      <td>5935ed077915347dc695744df68c565c</td>\n",
       "      <td>East</td>\n",
       "      <td>03-09-2021</td>\n",
       "      <td>04-09-2021</td>\n",
       "      <td>04-09-2021</td>\n",
       "      <td>KAJCI Embroidered Women's Waistcoat</td>\n",
       "      <td>Clothing</td>\n",
       "      <td>Women's Clothing</td>\n",
       "      <td>Formal Wear</td>\n",
       "      <td>Waistcoats</td>\n",
       "      <td>WSCEG2FYDYFDSVZ6</td>\n",
       "      <td>1200</td>\n",
       "      <td>699</td>\n",
       "      <td>5.0</td>\n",
       "      <td>KAJCI</td>\n",
       "    </tr>\n",
       "    <tr>\n",
       "      <th>...</th>\n",
       "      <td>...</td>\n",
       "      <td>...</td>\n",
       "      <td>...</td>\n",
       "      <td>...</td>\n",
       "      <td>...</td>\n",
       "      <td>...</td>\n",
       "      <td>...</td>\n",
       "      <td>...</td>\n",
       "      <td>...</td>\n",
       "      <td>...</td>\n",
       "      <td>...</td>\n",
       "      <td>...</td>\n",
       "      <td>...</td>\n",
       "      <td>...</td>\n",
       "      <td>...</td>\n",
       "    </tr>\n",
       "    <tr>\n",
       "      <th>8901</th>\n",
       "      <td>90d30478255e23621e8929ed15c2f6e4</td>\n",
       "      <td>South</td>\n",
       "      <td>01-12-2020</td>\n",
       "      <td>04-12-2020</td>\n",
       "      <td>04-12-2020</td>\n",
       "      <td>Sinina Chanderi Embroidered Salwar Suit Dupatt...</td>\n",
       "      <td>Clothing</td>\n",
       "      <td>Women's Clothing</td>\n",
       "      <td>Ethnic Wear</td>\n",
       "      <td>Fabric</td>\n",
       "      <td>FABEGGHHDFMY8BZU</td>\n",
       "      <td>2980</td>\n",
       "      <td>1490</td>\n",
       "      <td>3.0</td>\n",
       "      <td>Sinina</td>\n",
       "    </tr>\n",
       "    <tr>\n",
       "      <th>8902</th>\n",
       "      <td>20a73e3f41490a73ceeba5f17658db8f</td>\n",
       "      <td>West</td>\n",
       "      <td>01-12-2020</td>\n",
       "      <td>04-12-2020</td>\n",
       "      <td>04-12-2020</td>\n",
       "      <td>Aarushi Fashion Chanderi Embroidered Salwar Su...</td>\n",
       "      <td>Clothing</td>\n",
       "      <td>Women's Clothing</td>\n",
       "      <td>Ethnic Wear</td>\n",
       "      <td>Fabric</td>\n",
       "      <td>FABEG8GFDUWRSNU3</td>\n",
       "      <td>2600</td>\n",
       "      <td>1300</td>\n",
       "      <td>1.0</td>\n",
       "      <td>Aarushi Fashion</td>\n",
       "    </tr>\n",
       "    <tr>\n",
       "      <th>8903</th>\n",
       "      <td>5c1554cd45f9d538c2c6947dbdd59c75</td>\n",
       "      <td>East</td>\n",
       "      <td>01-12-2020</td>\n",
       "      <td>04-12-2020</td>\n",
       "      <td>04-12-2020</td>\n",
       "      <td>Ambika Lahenga Embroidered Lehenga, Choli and ...</td>\n",
       "      <td>Clothing</td>\n",
       "      <td>Women's Clothing</td>\n",
       "      <td>Ethnic Wear</td>\n",
       "      <td>Lehenga Cholis</td>\n",
       "      <td>LEHEGGEHYN4G2RPW</td>\n",
       "      <td>39992</td>\n",
       "      <td>24995</td>\n",
       "      <td>1.0</td>\n",
       "      <td>Ambika Lahenga</td>\n",
       "    </tr>\n",
       "    <tr>\n",
       "      <th>8904</th>\n",
       "      <td>6b737a4deca1ed0e56c179e66036e994</td>\n",
       "      <td>West</td>\n",
       "      <td>01-12-2020</td>\n",
       "      <td>04-12-2020</td>\n",
       "      <td>04-12-2020</td>\n",
       "      <td>Sinina Chanderi Embroidered Salwar Suit Dupatt...</td>\n",
       "      <td>Clothing</td>\n",
       "      <td>Women's Clothing</td>\n",
       "      <td>Ethnic Wear</td>\n",
       "      <td>Fabric</td>\n",
       "      <td>FABEGGHHGSVCHGFV</td>\n",
       "      <td>2000</td>\n",
       "      <td>1000</td>\n",
       "      <td>3.0</td>\n",
       "      <td>Sinina</td>\n",
       "    </tr>\n",
       "    <tr>\n",
       "      <th>8905</th>\n",
       "      <td>a5235ac28d3d5487f54025f9d6b57433</td>\n",
       "      <td>North</td>\n",
       "      <td>01-12-2020</td>\n",
       "      <td>04-12-2020</td>\n",
       "      <td>04-12-2020</td>\n",
       "      <td>Aarushi Fashion Silk Striped Salwar Suit Dupat...</td>\n",
       "      <td>Clothing</td>\n",
       "      <td>Women's Clothing</td>\n",
       "      <td>Ethnic Wear</td>\n",
       "      <td>Fabric</td>\n",
       "      <td>FABEG8GYDAABECZH</td>\n",
       "      <td>2800</td>\n",
       "      <td>1350</td>\n",
       "      <td>4.0</td>\n",
       "      <td>Aarushi Fashion</td>\n",
       "    </tr>\n",
       "  </tbody>\n",
       "</table>\n",
       "<p>8906 rows × 15 columns</p>\n",
       "</div>"
      ],
      "text/plain": [
       "                      Customer_uniq_id Region  Order_Date  \\\n",
       "0     e71017e224688489edfe856f2308806d  East   24-10-2021   \n",
       "1     6286847ee2da18f587503db49511c539  East   24-10-2021   \n",
       "2     0686fec9b70e5039583a38119ca0c835   West  24-10-2021   \n",
       "3     ea2406dc597bee2abb6b867fa668501f   West  24-10-2021   \n",
       "4     5935ed077915347dc695744df68c565c  East   03-09-2021   \n",
       "...                                ...    ...         ...   \n",
       "8901  90d30478255e23621e8929ed15c2f6e4  South  01-12-2020   \n",
       "8902  20a73e3f41490a73ceeba5f17658db8f   West  01-12-2020   \n",
       "8903  5c1554cd45f9d538c2c6947dbdd59c75  East   01-12-2020   \n",
       "8904  6b737a4deca1ed0e56c179e66036e994   West  01-12-2020   \n",
       "8905  a5235ac28d3d5487f54025f9d6b57433  North  01-12-2020   \n",
       "\n",
       "     Expected_Delivery_Date Delivered_Date  \\\n",
       "0                25-10-2021     25-10-2021   \n",
       "1                25-10-2021     25-10-2021   \n",
       "2                25-10-2021     25-10-2021   \n",
       "3                25-10-2021     25-10-2021   \n",
       "4                04-09-2021     04-09-2021   \n",
       "...                     ...            ...   \n",
       "8901             04-12-2020     04-12-2020   \n",
       "8902             04-12-2020     04-12-2020   \n",
       "8903             04-12-2020     04-12-2020   \n",
       "8904             04-12-2020     04-12-2020   \n",
       "8905             04-12-2020     04-12-2020   \n",
       "\n",
       "                                           product_name product_main_category  \\\n",
       "0     Indcrown Net Embroidered Semi-stitched Lehenga...             Clothing    \n",
       "1         Shopmania Music Band A5 Notebook Spiral Bound    Pens & Stationery    \n",
       "2         Shopmania Music Band A5 Notebook Spiral Bound    Pens & Stationery    \n",
       "3     Tiara Diaries 2016-2017 Designer LA Kaarta \"TA...    Pens & Stationery    \n",
       "4                   KAJCI Embroidered Women's Waistcoat             Clothing    \n",
       "...                                                 ...                   ...   \n",
       "8901  Sinina Chanderi Embroidered Salwar Suit Dupatt...             Clothing    \n",
       "8902  Aarushi Fashion Chanderi Embroidered Salwar Su...             Clothing    \n",
       "8903  Ambika Lahenga Embroidered Lehenga, Choli and ...             Clothing    \n",
       "8904  Sinina Chanderi Embroidered Salwar Suit Dupatt...             Clothing    \n",
       "8905  Aarushi Fashion Silk Striped Salwar Suit Dupat...             Clothing    \n",
       "\n",
       "        product_subcategory product_category_filter  \\\n",
       "0         Women's Clothing             Ethnic Wear    \n",
       "1      Diaries & Notebooks               Notebooks    \n",
       "2      Diaries & Notebooks               Notebooks    \n",
       "3      Diaries & Notebooks               Notebooks    \n",
       "4         Women's Clothing             Formal Wear    \n",
       "...                     ...                     ...   \n",
       "8901      Women's Clothing             Ethnic Wear    \n",
       "8902      Women's Clothing             Ethnic Wear    \n",
       "8903      Women's Clothing             Ethnic Wear    \n",
       "8904      Women's Clothing             Ethnic Wear    \n",
       "8905      Women's Clothing             Ethnic Wear    \n",
       "\n",
       "     product_category_subfilter product_unique ID  retail_price  \\\n",
       "0                       Fabric   FABEJX2NHNKCYHKA           999   \n",
       "1                     Designer   DIAEJ6Z8BEDTGGYY           499   \n",
       "2                     Designer   DIAEJ6Z8KQFWDEGH           499   \n",
       "3                     Designer   DIAEJ8FGHZ3K86JU          1000   \n",
       "4                   Waistcoats   WSCEG2FYDYFDSVZ6          1200   \n",
       "...                         ...               ...           ...   \n",
       "8901                    Fabric   FABEGGHHDFMY8BZU          2980   \n",
       "8902                    Fabric   FABEG8GFDUWRSNU3          2600   \n",
       "8903            Lehenga Cholis   LEHEGGEHYN4G2RPW         39992   \n",
       "8904                    Fabric   FABEGGHHGSVCHGFV          2000   \n",
       "8905                    Fabric   FABEG8GYDAABECZH          2800   \n",
       "\n",
       "      discounted_price  product_rating            Brand  \n",
       "0                  699             4.0         Indcrown  \n",
       "1                  275             1.0        Shopmania  \n",
       "2                  275             2.0        Shopmania  \n",
       "3                  837             3.0    Tiara Diaries  \n",
       "4                  699             5.0            KAJCI  \n",
       "...                ...             ...              ...  \n",
       "8901              1490             3.0           Sinina  \n",
       "8902              1300             1.0  Aarushi Fashion  \n",
       "8903             24995             1.0   Ambika Lahenga  \n",
       "8904              1000             3.0           Sinina  \n",
       "8905              1350             4.0  Aarushi Fashion  \n",
       "\n",
       "[8906 rows x 15 columns]"
      ]
     },
     "execution_count": 13,
     "metadata": {},
     "output_type": "execute_result"
    }
   ],
   "source": [
    "#to retain the original dataset as is, taken a deep copy of the existing dataset and applied drop function on the copied dataframe object. \n",
    "ECom_Data_original = ECom_Data.copy()\n",
    "ECom_Data_original.drop(['product_specifications', 'description'], axis = 1, inplace = True)\n",
    "ECom_Data_original"
   ]
  },
  {
   "cell_type": "markdown",
   "id": "cde421e0",
   "metadata": {
    "id": "cde421e0"
   },
   "source": [
    "<font color='blue'>\n",
    "    <font size = 5>\n",
    "        The next steps in this project involves summarization of data at various levels and visualization. Apparently, such simple steps are very useful to get an overall sense of the data.\n",
    "    </font>"
   ]
  },
  {
   "cell_type": "markdown",
   "id": "41c30ad7",
   "metadata": {
    "id": "41c30ad7"
   },
   "source": [
    "## Q 3. Here we summarize the data at Brand level.\n",
    "## a) How many unique Brand are there? (2 marks)\n",
    "## b) Note that each Brand contains multiple products. Show the average product_rating within each Brand (2 marks)\n"
   ]
  },
  {
   "cell_type": "markdown",
   "id": "beb3f83f",
   "metadata": {
    "id": "beb3f83f"
   },
   "source": [
    "### Ans 3 a) unique is the function used to know the unique brands that are in 'Brand' column. len function is used to get the count of these unique values"
   ]
  },
  {
   "cell_type": "code",
   "execution_count": 14,
   "id": "41dcb79f",
   "metadata": {
    "colab": {
     "base_uri": "https://localhost:8080/",
     "height": 304
    },
    "executionInfo": {
     "elapsed": 2609,
     "status": "error",
     "timestamp": 1671475007345,
     "user": {
      "displayName": "yamini yedupati",
      "userId": "02403385729764029169"
     },
     "user_tz": -330
    },
    "id": "41dcb79f",
    "outputId": "b4ad8bcf-3541-47d5-f55c-d84dcb374972"
   },
   "outputs": [
    {
     "data": {
      "text/plain": [
       "2571"
      ]
     },
     "execution_count": 14,
     "metadata": {},
     "output_type": "execute_result"
    }
   ],
   "source": [
    "#use unique with brand column of dataset\n",
    "len(ECom_Data['Brand'].unique())\n",
    "\n",
    "#other approaches in solution file\n",
    "ECom_Data['Brand'].value_counts()\n",
    "ECom_Data['Brand'].nunique()"
   ]
  },
  {
   "cell_type": "markdown",
   "id": "5083d866",
   "metadata": {
    "id": "5083d866"
   },
   "source": [
    "### Ans 3 b) grouping by 'brand' column groups the data for different brands and mean funtion is applied on product_rating column data of each group to show average product rating"
   ]
  },
  {
   "cell_type": "code",
   "execution_count": 15,
   "id": "10018c2c",
   "metadata": {
    "id": "10018c2c"
   },
   "outputs": [
    {
     "data": {
      "text/plain": [
       "Brand\n",
       "1OAK            1.500000\n",
       "3A AUTOCARE     3.268293\n",
       "3D Mat          3.000000\n",
       "3kFactory       2.000000\n",
       "4D              3.600000\n",
       "                  ...   \n",
       "youniqueshop    2.000000\n",
       "zDelhi.com      5.000000\n",
       "zaidis          4.000000\n",
       "zasmina         4.500000\n",
       " Tarkan         5.000000\n",
       "Name: product_rating, Length: 2571, dtype: float64"
      ]
     },
     "execution_count": 15,
     "metadata": {},
     "output_type": "execute_result"
    }
   ],
   "source": [
    "#groupby brand and calculate mean of product_rating\n",
    "ECom_Data.groupby(['Brand'])['product_rating'].mean()\n",
    "#ECom_Data['Brand'].value_counts()['product_rating'].mean()"
   ]
  },
  {
   "cell_type": "markdown",
   "id": "bbf162af",
   "metadata": {
    "id": "bbf162af"
   },
   "source": [
    "## Q 4. Next we study the main categories of the products.\n",
    "\n",
    "## a) Create an appropriate plot to show the count of items ordered for each product_main_category. (6 marks).\n",
    "\n",
    "### Hint: Create a bar chart titled \"Product Category type\" where product_main_category are on x-axis and counts are on y-axis.\n",
    "\n",
    "### Note: Both axis labels, i.e. the names of the product_main_category and counts must be clearly legible. \n",
    "\n",
    "## b) From the plot identify for which two product_main_category(s)  maximum and minimum orders were placed. (2 marks)\n",
    "\n",
    "## c) Write code to print out the top 5 product_main_category(s)  in descending order? (3 marks"
   ]
  },
  {
   "cell_type": "code",
   "execution_count": null,
   "id": "5c65c13f",
   "metadata": {
    "id": "5c65c13f"
   },
   "outputs": [],
   "source": []
  },
  {
   "cell_type": "markdown",
   "id": "36c72928",
   "metadata": {
    "id": "36c72928"
   },
   "source": [
    "### Ans 4 a) plt.title() function is used to display title of the barchart. countplot() in sns is the function used to display the counts of data present for each category. Categories are labelled with axes rotated on x-axis and their respective counts on y-axis."
   ]
  },
  {
   "cell_type": "code",
   "execution_count": 17,
   "id": "f60dd2c1",
   "metadata": {
    "id": "f60dd2c1"
   },
   "outputs": [
    {
     "data": {
      "image/png": "[encoded data removed]",
      "text/plain": [
       "<Figure size 640x480 with 1 Axes>"
      ]
     },
     "metadata": {},
     "output_type": "display_data"
    }
   ],
   "source": [
    "plt.title('Product Category Type')\n",
    "plt.xticks(rotation = 90)\n",
    "sns.countplot(data=ECom_Data, x = 'product_main_category');"
   ]
  },
  {
   "cell_type": "markdown",
   "id": "13a5b355",
   "metadata": {
    "id": "13a5b355"
   },
   "source": [
    "### Ans 4 b) From the plot, it is visible that maximum orders were placed for Clothing and minimum orders were placed for the product category Wearable Smart Devices."
   ]
  },
  {
   "cell_type": "markdown",
   "id": "4ea60c92",
   "metadata": {
    "id": "4ea60c92"
   },
   "source": [
    "### Ans 4 c) Top 5 product main categories are displayed with the help of value counts function which returns the top categories for which most orders are placed in descendong order. To show top 5 categories, head(5) function is used."
   ]
  },
  {
   "cell_type": "code",
   "execution_count": 18,
   "id": "7f704116",
   "metadata": {
    "id": "7f704116"
   },
   "outputs": [
    {
     "data": {
      "text/plain": [
       "Clothing                       2943\n",
       "Mobiles & Accessories          1084\n",
       "Automotive                     1001\n",
       "Home Decor & Festive Needs      727\n",
       "Computers                       558\n",
       "Name: product_main_category, dtype: int64"
      ]
     },
     "execution_count": 18,
     "metadata": {},
     "output_type": "execute_result"
    }
   ],
   "source": [
    "ECom_Data['product_main_category'].value_counts().head(5)"
   ]
  },
  {
   "cell_type": "markdown",
   "id": "a9f81605",
   "metadata": {
    "id": "a9f81605"
   },
   "source": [
    "<font color='blue'>\n",
    "    <font size = 5>\n",
    "    In E-commerce, both the retailers (here brands) and the company have to make profit to sustain in the business. \n",
    "    The E-Commerce company has the following rule for computing their own revenue: </font> \n",
    "    \n",
    "####     The company charges  \n",
    "####  (i) 25% on the orders having final price (discounted price) greater than 600\n",
    "\n",
    "#### (ii) 15% on the orders having final price (discounted price) greater than 350 but less than or equal to 600\n",
    "\n",
    "#### (iii) 10% on the orders having final price (discounted price) greater than 100 but less than or equal to 350\n",
    "\n",
    "#### (iv) Otherwise, 5% on the final price (discounted price)    </font> "
   ]
  },
  {
   "cell_type": "markdown",
   "id": "0f255fea",
   "metadata": {
    "id": "0f255fea"
   },
   "source": [
    "## Q 5. Find the Total Revenue generated by the E-Commerce company over all orders placed. (6 marks)\n",
    "\n",
    "#### Hint: Calculate revenue of E-commerce company using the conditions mentioned above and then do the total (sum) of all to get total Revenue. "
   ]
  },
  {
   "cell_type": "markdown",
   "id": "1f6b8028",
   "metadata": {
    "id": "1f6b8028"
   },
   "source": [
    "### Ans 5 The below code loops through the data in the column discounted_price, calculates the revenue for each discounted price based conditions specified in the question and adds it to the total_revenue variable."
   ]
  },
  {
   "cell_type": "code",
   "execution_count": 19,
   "id": "c62d888f",
   "metadata": {
    "id": "c62d888f"
   },
   "outputs": [
    {
     "name": "stdout",
     "output_type": "stream",
     "text": [
      "The total revenue generated by the E-Commerce company on all orders placed is 2217486.85\n"
     ]
    }
   ],
   "source": [
    "total_revenue = 0\n",
    "#looping through discounted_price\n",
    "for x in ECom_Data['discounted_price']:\n",
    "    if(x>600):\n",
    "        total_revenue=total_revenue+x*0.25\n",
    "    elif(x>350 and x<=600):\n",
    "        total_revenue=total_revenue+x*0.15\n",
    "    elif(x>100 and x<=350):\n",
    "        total_revenue=total_revenue+x*0.1\n",
    "    else:\n",
    "        total_revenue=total_revenue+x*0.05\n",
    "print('The total revenue generated by the E-Commerce company on all orders placed is', round(total_revenue,2))"
   ]
  },
  {
   "cell_type": "code",
   "execution_count": 20,
   "id": "d0af26e0",
   "metadata": {},
   "outputs": [
    {
     "data": {
      "text/plain": [
       "2217486.85"
      ]
     },
     "execution_count": 20,
     "metadata": {},
     "output_type": "execute_result"
    }
   ],
   "source": [
    "#adding company revenue column so that it is useful in other questions.\n",
    "company_revenue_list = []\n",
    "for x in ECom_Data['discounted_price']:\n",
    "    if(x>600):\n",
    "        company_revenue_list.append(x*0.25)\n",
    "    elif(x>350 and x<=600):\n",
    "        company_revenue_list.append(x*0.15)\n",
    "    elif(x>100 and x<=350):\n",
    "        company_revenue_list.append(x*0.10)\n",
    "    else:\n",
    "        company_revenue_list.append(x*0.05)\n",
    "ECom_Data_Modified = ECom_Data.copy()\n",
    "ECom_Data_Modified['CompanyRevenue'] = company_revenue_list\n",
    "ECom_Data_Modified['CompanyRevenue'].sum()\n"
   ]
  },
  {
   "cell_type": "markdown",
   "id": "9161ca8c",
   "metadata": {
    "id": "9161ca8c"
   },
   "source": [
    "<font color='blue'>\n",
    "    <font size = 5>\n",
    "    Now you need to find the revenue for each retailer (Brand)\n",
    "    </font>"
   ]
  },
  {
   "cell_type": "markdown",
   "id": "73dd23c3",
   "metadata": {
    "id": "73dd23c3"
   },
   "source": [
    "## Q6.Calculate the total BrandRevenue and list the top 10 Brand having maximum revenue in descending order (6 marks)\n",
    "#### Hint: Total BrandRevenue is BrandRevenue which is generated after all the deductions. Also, BrandRevenue is different from the E-Commerce company's revenue.\n",
    "#### Brand Revenue is the discounted price minus the Revenue (generated using the conditions given above Q5)\n"
   ]
  },
  {
   "cell_type": "markdown",
   "id": "3514fa79",
   "metadata": {
    "id": "3514fa79"
   },
   "source": [
    "### Ans 6 Two approaches shown for the above question\n",
    "approach1: uses plain logic to show the brands and their revenue.\n",
    "approach2: written this approach to store revenue data into another dataframe which is used in subsequent questions."
   ]
  },
  {
   "cell_type": "code",
   "execution_count": 23,
   "id": "437c69b5",
   "metadata": {
    "id": "437c69b5"
   },
   "outputs": [
    {
     "name": "stdout",
     "output_type": "stream",
     "text": [
      "The top 10 brands sorted according to brand revenue are shown below in the format Brand - Revenue\n",
      "Allure Auto  -  498464.25\n",
      "GAGA  -  237390.0\n",
      "Slim  -  212062.59999999998\n",
      "DailyObjects  -  181980.0\n",
      "Diviniti  -  143115.0\n",
      "Regular  -  126112.35\n",
      "Enthopia  -  123146.25\n",
      "TheLostPuppy  -  116595.35000000002\n",
      "Asus  -  99241.5\n",
      "Springwel  -  88978.5\n"
     ]
    }
   ],
   "source": [
    "#approach1\n",
    "df = ECom_Data.groupby(['Brand'])\n",
    "dict1 = {}\n",
    "for name, group in df:\n",
    "    #looping over the sum of discountedprices for each brand to calculate company's total revenue on that brand.\n",
    "    brand_revenue = 0\n",
    "    #print(group['discounted_price'].sum())\n",
    "    for x in group['discounted_price']:\n",
    "        if(x>600):\n",
    "            brand_revenue=brand_revenue+x*0.25\n",
    "        elif(x>350 and x<=600):\n",
    "            brand_revenue=brand_revenue+x*0.15\n",
    "        elif(x>100 and x<=350):\n",
    "            brand_revenue=brand_revenue+x*0.1\n",
    "        else:\n",
    "            brand_revenue=brand_revenue+x*0.05\n",
    "    #subtracting company's revenue from the total discounted price for the brand to get brand's revenue.\n",
    "    #storing brand name and brand's revenue in descending order in dict d1.\n",
    "    dict1[name] = group['discounted_price'].sum() - brand_revenue\n",
    "sorted_dict = dict(sorted(dict1.items(),\n",
    "                           key=lambda item: item[1],\n",
    "                           reverse=True))\n",
    "list_sorted = list(sorted_dict.items())\n",
    "#printing top 10 brands according to their revenue from the dict.\n",
    "print('The top 10 brands sorted according to brand revenue are shown below in the format Brand - Revenue')\n",
    "for i in range(10):\n",
    "    print(list_sorted[i][0], \" - \", list_sorted[i][1])"
   ]
  },
  {
   "cell_type": "code",
   "execution_count": 24,
   "id": "3ba184bb",
   "metadata": {},
   "outputs": [
    {
     "name": "stdout",
     "output_type": "stream",
     "text": [
      "The top 10 brands sorted according to brand revenue are shown below in the format Brand - Revenue\n",
      "Allure Auto  -  498464.25\n",
      "GAGA  -  237390.0\n",
      "Slim  -  212062.6\n",
      "DailyObjects  -  181980.0\n",
      "Diviniti  -  143115.0\n",
      "Regular  -  126112.35\n",
      "Enthopia  -  123146.25\n",
      "TheLostPuppy  -  116595.35\n",
      "Asus  -  99241.5\n",
      "Springwel  -  88978.5\n"
     ]
    }
   ],
   "source": [
    "#approach2\n",
    "ECom_Brand_Data = ECom_Data_Modified.groupby(['Brand']).sum()\n",
    "BrandRevenueList = []\n",
    "for index, row in ECom_Brand_Data.iterrows():\n",
    "    BrandRevenueList.append(row['discounted_price'] - row['CompanyRevenue'])\n",
    "ECom_Brand_Data['BrandRevenue'] = BrandRevenueList\n",
    "ECom_Top10Brands = ECom_Brand_Data.sort_values('BrandRevenue', ascending = False).head(10)\n",
    "print('The top 10 brands sorted according to brand revenue are shown below in the format Brand - Revenue')\n",
    "for index, row in ECom_Top10Brands.iterrows():\n",
    "    print(index, \" - \", row['BrandRevenue'])"
   ]
  },
  {
   "cell_type": "markdown",
   "id": "2a2bbd83",
   "metadata": {
    "id": "2a2bbd83"
   },
   "source": [
    "<font color='blue'>\n",
    "    <font size = 5>\n",
    "Let us now investigate multiple features for each product to determine any pattern.\n",
    "</font>"
   ]
  },
  {
   "cell_type": "markdown",
   "id": "1aa1834b",
   "metadata": {
    "id": "1aa1834b"
   },
   "source": [
    "## Q 7. Compare prices for each product.\n",
    "\n",
    "## a)\tDraw boxplots of retail_price & discounted_price. (3 marks)\n",
    "\n",
    "## b)\t Are there any outliers? (Yes/No) (1mark)\n",
    "\n",
    "## c)\tCreate a scatterplot of retail_price (x-axis) and discounted_price (y-axis) (3 marks)\n"
   ]
  },
  {
   "cell_type": "markdown",
   "id": "d5aae861",
   "metadata": {
    "id": "d5aae861"
   },
   "source": [
    "### Ans 7 a) boxplot() function of seaborn is used to plot the retail_price data and discounted_price data."
   ]
  },
  {
   "cell_type": "code",
   "execution_count": 25,
   "id": "510fd4d0",
   "metadata": {
    "id": "510fd4d0",
    "scrolled": true
   },
   "outputs": [
    {
     "data": {
      "image/png": "[encoded data removed]",
      "text/plain": [
       "<Figure size 1500x1000 with 1 Axes>"
      ]
     },
     "metadata": {},
     "output_type": "display_data"
    }
   ],
   "source": [
    "plt.figure(figsize = (15,10))\n",
    "plt.xlim(-1000,55000)\n",
    "sns.boxplot(data = ECom_Data, x = 'retail_price');"
   ]
  },
  {
   "cell_type": "code",
   "execution_count": 26,
   "id": "d98e8617",
   "metadata": {},
   "outputs": [
    {
     "data": {
      "image/png": "[encoded data removed]",
      "text/plain": [
       "<Figure size 1500x1000 with 1 Axes>"
      ]
     },
     "metadata": {},
     "output_type": "display_data"
    }
   ],
   "source": [
    "plt.figure(figsize = (15,10))\n",
    "plt.xlim(-1000,55000)\n",
    "sns.boxplot(data = ECom_Data, x = 'discounted_price');"
   ]
  },
  {
   "cell_type": "markdown",
   "id": "598d0199",
   "metadata": {
    "id": "78b92e7c"
   },
   "source": [
    "### Ans 7 b)"
   ]
  },
  {
   "cell_type": "markdown",
   "id": "5a64115b",
   "metadata": {
    "id": "0af7c034"
   },
   "source": [
    "From the above two box plots, it is evident that there is data that lies to the right of right whisker in both the box plots i.e., for retail_price and discounted_price. Hence there are outliers in both the box plots."
   ]
  },
  {
   "cell_type": "markdown",
   "id": "0389c9b8",
   "metadata": {
    "id": "0389c9b8"
   },
   "source": [
    "### Ans 7 c) scatterplot() of seaborn is the function used to plot the points for the data retail_price on x-axis and discounted_price on y-axis."
   ]
  },
  {
   "cell_type": "code",
   "execution_count": 27,
   "id": "d8c44be9",
   "metadata": {
    "id": "d8c44be9",
    "scrolled": true
   },
   "outputs": [
    {
     "data": {
      "text/plain": [
       "<AxesSubplot:xlabel='retail_price', ylabel='discounted_price'>"
      ]
     },
     "execution_count": 27,
     "metadata": {},
     "output_type": "execute_result"
    },
    {
     "data": {
      "image/png": "[encoded data removed]",
      "text/plain": [
       "<Figure size 640x480 with 1 Axes>"
      ]
     },
     "metadata": {},
     "output_type": "display_data"
    }
   ],
   "source": [
    "sns.scatterplot(data=ECom_Data, x='retail_price', y='discounted_price')"
   ]
  },
  {
   "cell_type": "markdown",
   "id": "3bc47f55",
   "metadata": {
    "id": "3bc47f55"
   },
   "source": [
    "<font color='blue'>\n",
    "    <font size = 5>\n",
    "    The next steps will enable to study brand-level information.\n",
    "    </font>"
   ]
  },
  {
   "cell_type": "markdown",
   "id": "b9bd00f7",
   "metadata": {
    "id": "b9bd00f7"
   },
   "source": [
    "## Q 8. Create a new dataframe to include the Brand specific information as stated:\n",
    "## i.\ttotal number of orders placed per Brand\n",
    "## ii.\ttotal retail_price per Brand\n",
    "## iii.\ttotal discounted_price per Brand, and \n",
    "## iv.\ttotal BrandRevenue generated per Brand. \n",
    "\n",
    "## Also, draw a pairplot using these four features. (6 marks)\n"
   ]
  },
  {
   "cell_type": "markdown",
   "id": "8f83cea9",
   "metadata": {
    "id": "8f83cea9"
   },
   "source": [
    "### Ans 8 Used the dataframe that is obtained from question6 approach 2 and added columns to the dataframe as requested in the question to draw pairplot."
   ]
  },
  {
   "cell_type": "code",
   "execution_count": 29,
   "id": "217f6e8d",
   "metadata": {},
   "outputs": [
    {
     "data": {
      "text/html": [
       "<div>\n",
       "<style scoped>\n",
       "    .dataframe tbody tr th:only-of-type {\n",
       "        vertical-align: middle;\n",
       "    }\n",
       "\n",
       "    .dataframe tbody tr th {\n",
       "        vertical-align: top;\n",
       "    }\n",
       "\n",
       "    .dataframe thead th {\n",
       "        text-align: right;\n",
       "    }\n",
       "</style>\n",
       "<table border=\"1\" class=\"dataframe\">\n",
       "  <thead>\n",
       "    <tr style=\"text-align: right;\">\n",
       "      <th></th>\n",
       "      <th>retail_price</th>\n",
       "      <th>discounted_price</th>\n",
       "      <th>product_rating</th>\n",
       "      <th>CompanyRevenue</th>\n",
       "      <th>BrandRevenue</th>\n",
       "    </tr>\n",
       "    <tr>\n",
       "      <th>Brand</th>\n",
       "      <th></th>\n",
       "      <th></th>\n",
       "      <th></th>\n",
       "      <th></th>\n",
       "      <th></th>\n",
       "    </tr>\n",
       "  </thead>\n",
       "  <tbody>\n",
       "    <tr>\n",
       "      <th>1OAK</th>\n",
       "      <td>1698</td>\n",
       "      <td>1274</td>\n",
       "      <td>3.0</td>\n",
       "      <td>258.60</td>\n",
       "      <td>1015.40</td>\n",
       "    </tr>\n",
       "    <tr>\n",
       "      <th>3A AUTOCARE</th>\n",
       "      <td>107059</td>\n",
       "      <td>74134</td>\n",
       "      <td>134.0</td>\n",
       "      <td>18486.10</td>\n",
       "      <td>55647.90</td>\n",
       "    </tr>\n",
       "    <tr>\n",
       "      <th>3D Mat</th>\n",
       "      <td>7250</td>\n",
       "      <td>6999</td>\n",
       "      <td>3.0</td>\n",
       "      <td>1749.75</td>\n",
       "      <td>5249.25</td>\n",
       "    </tr>\n",
       "    <tr>\n",
       "      <th>3kFactory</th>\n",
       "      <td>399</td>\n",
       "      <td>174</td>\n",
       "      <td>2.0</td>\n",
       "      <td>17.40</td>\n",
       "      <td>156.60</td>\n",
       "    </tr>\n",
       "    <tr>\n",
       "      <th>4D</th>\n",
       "      <td>17500</td>\n",
       "      <td>7948</td>\n",
       "      <td>18.0</td>\n",
       "      <td>1987.00</td>\n",
       "      <td>5961.00</td>\n",
       "    </tr>\n",
       "    <tr>\n",
       "      <th>...</th>\n",
       "      <td>...</td>\n",
       "      <td>...</td>\n",
       "      <td>...</td>\n",
       "      <td>...</td>\n",
       "      <td>...</td>\n",
       "    </tr>\n",
       "    <tr>\n",
       "      <th>youniqueshop</th>\n",
       "      <td>810</td>\n",
       "      <td>640</td>\n",
       "      <td>2.0</td>\n",
       "      <td>160.00</td>\n",
       "      <td>480.00</td>\n",
       "    </tr>\n",
       "    <tr>\n",
       "      <th>zDelhi.com</th>\n",
       "      <td>4499</td>\n",
       "      <td>3999</td>\n",
       "      <td>5.0</td>\n",
       "      <td>999.75</td>\n",
       "      <td>2999.25</td>\n",
       "    </tr>\n",
       "    <tr>\n",
       "      <th>zaidis</th>\n",
       "      <td>150</td>\n",
       "      <td>129</td>\n",
       "      <td>4.0</td>\n",
       "      <td>12.90</td>\n",
       "      <td>116.10</td>\n",
       "    </tr>\n",
       "    <tr>\n",
       "      <th>zasmina</th>\n",
       "      <td>1400</td>\n",
       "      <td>639</td>\n",
       "      <td>9.0</td>\n",
       "      <td>63.90</td>\n",
       "      <td>575.10</td>\n",
       "    </tr>\n",
       "    <tr>\n",
       "      <th>Tarkan</th>\n",
       "      <td>1999</td>\n",
       "      <td>349</td>\n",
       "      <td>5.0</td>\n",
       "      <td>34.90</td>\n",
       "      <td>314.10</td>\n",
       "    </tr>\n",
       "  </tbody>\n",
       "</table>\n",
       "<p>2571 rows × 5 columns</p>\n",
       "</div>"
      ],
      "text/plain": [
       "              retail_price  discounted_price  product_rating  CompanyRevenue  \\\n",
       "Brand                                                                          \n",
       "1OAK                  1698              1274             3.0          258.60   \n",
       "3A AUTOCARE         107059             74134           134.0        18486.10   \n",
       "3D Mat                7250              6999             3.0         1749.75   \n",
       "3kFactory              399               174             2.0           17.40   \n",
       "4D                   17500              7948            18.0         1987.00   \n",
       "...                    ...               ...             ...             ...   \n",
       "youniqueshop           810               640             2.0          160.00   \n",
       "zDelhi.com            4499              3999             5.0          999.75   \n",
       "zaidis                 150               129             4.0           12.90   \n",
       "zasmina               1400               639             9.0           63.90   \n",
       " Tarkan               1999               349             5.0           34.90   \n",
       "\n",
       "              BrandRevenue  \n",
       "Brand                       \n",
       "1OAK               1015.40  \n",
       "3A AUTOCARE       55647.90  \n",
       "3D Mat             5249.25  \n",
       "3kFactory           156.60  \n",
       "4D                 5961.00  \n",
       "...                    ...  \n",
       "youniqueshop        480.00  \n",
       "zDelhi.com         2999.25  \n",
       "zaidis              116.10  \n",
       "zasmina             575.10  \n",
       " Tarkan             314.10  \n",
       "\n",
       "[2571 rows x 5 columns]"
      ]
     },
     "execution_count": 29,
     "metadata": {},
     "output_type": "execute_result"
    }
   ],
   "source": [
    "#viewing the intial data\n",
    "ECom_Brand_Data"
   ]
  },
  {
   "cell_type": "code",
   "execution_count": 31,
   "id": "db6ad439",
   "metadata": {
    "scrolled": true
   },
   "outputs": [],
   "source": [
    "#creating another dataframe to use in this question and dropping unnecessary columns\n",
    "ECom_Brand_Data_8 = ECom_Brand_Data.drop(['product_rating', 'CompanyRevenue'], axis = 1)\n",
    "ECom_Brand_Data_8"
   ]
  },
  {
   "cell_type": "code",
   "execution_count": 32,
   "id": "82273fa2",
   "metadata": {},
   "outputs": [],
   "source": [
    "#storing number of orders placed in list (for 8(i) in question.)\n",
    "df1 = list(ECom_Data.groupby(['Brand'])['Customer_uniq_id'].count())\n",
    "df1"
   ]
  },
  {
   "cell_type": "code",
   "execution_count": 33,
   "id": "2082c890",
   "metadata": {},
   "outputs": [
    {
     "data": {
      "text/html": [
       "<div>\n",
       "<style scoped>\n",
       "    .dataframe tbody tr th:only-of-type {\n",
       "        vertical-align: middle;\n",
       "    }\n",
       "\n",
       "    .dataframe tbody tr th {\n",
       "        vertical-align: top;\n",
       "    }\n",
       "\n",
       "    .dataframe thead th {\n",
       "        text-align: right;\n",
       "    }\n",
       "</style>\n",
       "<table border=\"1\" class=\"dataframe\">\n",
       "  <thead>\n",
       "    <tr style=\"text-align: right;\">\n",
       "      <th></th>\n",
       "      <th>retail_price</th>\n",
       "      <th>discounted_price</th>\n",
       "      <th>BrandRevenue</th>\n",
       "      <th>OrdersPerBrand</th>\n",
       "    </tr>\n",
       "    <tr>\n",
       "      <th>Brand</th>\n",
       "      <th></th>\n",
       "      <th></th>\n",
       "      <th></th>\n",
       "      <th></th>\n",
       "    </tr>\n",
       "  </thead>\n",
       "  <tbody>\n",
       "    <tr>\n",
       "      <th>1OAK</th>\n",
       "      <td>1698</td>\n",
       "      <td>1274</td>\n",
       "      <td>1015.40</td>\n",
       "      <td>2</td>\n",
       "    </tr>\n",
       "    <tr>\n",
       "      <th>3A AUTOCARE</th>\n",
       "      <td>107059</td>\n",
       "      <td>74134</td>\n",
       "      <td>55647.90</td>\n",
       "      <td>41</td>\n",
       "    </tr>\n",
       "    <tr>\n",
       "      <th>3D Mat</th>\n",
       "      <td>7250</td>\n",
       "      <td>6999</td>\n",
       "      <td>5249.25</td>\n",
       "      <td>1</td>\n",
       "    </tr>\n",
       "    <tr>\n",
       "      <th>3kFactory</th>\n",
       "      <td>399</td>\n",
       "      <td>174</td>\n",
       "      <td>156.60</td>\n",
       "      <td>1</td>\n",
       "    </tr>\n",
       "    <tr>\n",
       "      <th>4D</th>\n",
       "      <td>17500</td>\n",
       "      <td>7948</td>\n",
       "      <td>5961.00</td>\n",
       "      <td>5</td>\n",
       "    </tr>\n",
       "    <tr>\n",
       "      <th>...</th>\n",
       "      <td>...</td>\n",
       "      <td>...</td>\n",
       "      <td>...</td>\n",
       "      <td>...</td>\n",
       "    </tr>\n",
       "    <tr>\n",
       "      <th>youniqueshop</th>\n",
       "      <td>810</td>\n",
       "      <td>640</td>\n",
       "      <td>480.00</td>\n",
       "      <td>1</td>\n",
       "    </tr>\n",
       "    <tr>\n",
       "      <th>zDelhi.com</th>\n",
       "      <td>4499</td>\n",
       "      <td>3999</td>\n",
       "      <td>2999.25</td>\n",
       "      <td>1</td>\n",
       "    </tr>\n",
       "    <tr>\n",
       "      <th>zaidis</th>\n",
       "      <td>150</td>\n",
       "      <td>129</td>\n",
       "      <td>116.10</td>\n",
       "      <td>1</td>\n",
       "    </tr>\n",
       "    <tr>\n",
       "      <th>zasmina</th>\n",
       "      <td>1400</td>\n",
       "      <td>639</td>\n",
       "      <td>575.10</td>\n",
       "      <td>2</td>\n",
       "    </tr>\n",
       "    <tr>\n",
       "      <th>Tarkan</th>\n",
       "      <td>1999</td>\n",
       "      <td>349</td>\n",
       "      <td>314.10</td>\n",
       "      <td>1</td>\n",
       "    </tr>\n",
       "  </tbody>\n",
       "</table>\n",
       "<p>2571 rows × 4 columns</p>\n",
       "</div>"
      ],
      "text/plain": [
       "              retail_price  discounted_price  BrandRevenue  OrdersPerBrand\n",
       "Brand                                                                     \n",
       "1OAK                  1698              1274       1015.40               2\n",
       "3A AUTOCARE         107059             74134      55647.90              41\n",
       "3D Mat                7250              6999       5249.25               1\n",
       "3kFactory              399               174        156.60               1\n",
       "4D                   17500              7948       5961.00               5\n",
       "...                    ...               ...           ...             ...\n",
       "youniqueshop           810               640        480.00               1\n",
       "zDelhi.com            4499              3999       2999.25               1\n",
       "zaidis                 150               129        116.10               1\n",
       "zasmina               1400               639        575.10               2\n",
       " Tarkan               1999               349        314.10               1\n",
       "\n",
       "[2571 rows x 4 columns]"
      ]
     },
     "execution_count": 33,
     "metadata": {},
     "output_type": "execute_result"
    }
   ],
   "source": [
    "ECom_Brand_Data_8['OrdersPerBrand'] = df1\n",
    "#below is resultant dataframe with the desired columns as per question.\n",
    "ECom_Brand_Data_8"
   ]
  },
  {
   "cell_type": "code",
   "execution_count": 34,
   "id": "260778e3",
   "metadata": {},
   "outputs": [
    {
     "data": {
      "image/png": "[encoded data removed]",
      "text/plain": [
       "<Figure size 1000x1000 with 20 Axes>"
      ]
     },
     "metadata": {},
     "output_type": "display_data"
    }
   ],
   "source": [
    "#drawing pairplot for the 4 features in the dataframe above.\n",
    "sns.pairplot(data=ECom_Brand_Data_8, vars=['OrdersPerBrand', 'retail_price', 'discounted_price', 'BrandRevenue']);"
   ]
  },
  {
   "cell_type": "markdown",
   "id": "ecec83f4",
   "metadata": {
    "id": "ecec83f4"
   },
   "source": [
    "<font color='blue'>\n",
    "    <font size = 5>\n",
    "    The E-Commerce company operate in multiple regions. It is important to understand its performance in each region.\n",
    "    </font>"
   ]
  },
  {
   "cell_type": "markdown",
   "id": "dd09b8aa",
   "metadata": {
    "id": "dd09b8aa"
   },
   "source": [
    "## Q 9.Compare performance regionwise\n",
    "\n",
    "## a)\tDraw a lineplot for the monthly Revenue of E-Commerce Company for each region separately.  (4 marks) \n",
    "\n",
    "## b)\tIdentify the best and the worst performing months for each region. (2 marks)\n",
    "\n",
    "#### Note: Only those days with actual orders(Order_Date) placed are present in the dataset. Assuming there were no orders on other days"
   ]
  },
  {
   "cell_type": "markdown",
   "id": "e6d64aea",
   "metadata": {
    "id": "e6d64aea"
   },
   "source": [
    "### Ans 9 a)"
   ]
  },
  {
   "cell_type": "code",
   "execution_count": 61,
   "id": "35d87c36",
   "metadata": {},
   "outputs": [
    {
     "data": {
      "text/html": [
       "<div>\n",
       "<style scoped>\n",
       "    .dataframe tbody tr th:only-of-type {\n",
       "        vertical-align: middle;\n",
       "    }\n",
       "\n",
       "    .dataframe tbody tr th {\n",
       "        vertical-align: top;\n",
       "    }\n",
       "\n",
       "    .dataframe thead th {\n",
       "        text-align: right;\n",
       "    }\n",
       "</style>\n",
       "<table border=\"1\" class=\"dataframe\">\n",
       "  <thead>\n",
       "    <tr style=\"text-align: right;\">\n",
       "      <th></th>\n",
       "      <th>Customer_uniq_id</th>\n",
       "      <th>Region</th>\n",
       "      <th>Order_Date</th>\n",
       "      <th>Expected_Delivery_Date</th>\n",
       "      <th>Delivered_Date</th>\n",
       "      <th>product_name</th>\n",
       "      <th>product_main_category</th>\n",
       "      <th>product_subcategory</th>\n",
       "      <th>product_category_filter</th>\n",
       "      <th>product_category_subfilter</th>\n",
       "      <th>product_unique ID</th>\n",
       "      <th>retail_price</th>\n",
       "      <th>discounted_price</th>\n",
       "      <th>product_rating</th>\n",
       "      <th>Brand</th>\n",
       "      <th>product_specifications</th>\n",
       "      <th>description</th>\n",
       "      <th>CompanyRevenueOnOrder</th>\n",
       "    </tr>\n",
       "  </thead>\n",
       "  <tbody>\n",
       "    <tr>\n",
       "      <th>0</th>\n",
       "      <td>e71017e224688489edfe856f2308806d</td>\n",
       "      <td>East</td>\n",
       "      <td>24-10-2021</td>\n",
       "      <td>25-10-2021</td>\n",
       "      <td>25-10-2021</td>\n",
       "      <td>Indcrown Net Embroidered Semi-stitched Lehenga...</td>\n",
       "      <td>Clothing</td>\n",
       "      <td>Women's Clothing</td>\n",
       "      <td>Ethnic Wear</td>\n",
       "      <td>Fabric</td>\n",
       "      <td>FABEJX2NHNKCYHKA</td>\n",
       "      <td>999</td>\n",
       "      <td>699</td>\n",
       "      <td>4.0</td>\n",
       "      <td>Indcrown</td>\n",
       "      <td>{\"product_specification\"=&gt;[{\"key\"=&gt;\"Fabric\", \"...</td>\n",
       "      <td>Key Features of Indcrown Net Embroidered Semi-...</td>\n",
       "      <td>174.75</td>\n",
       "    </tr>\n",
       "    <tr>\n",
       "      <th>1</th>\n",
       "      <td>6286847ee2da18f587503db49511c539</td>\n",
       "      <td>East</td>\n",
       "      <td>24-10-2021</td>\n",
       "      <td>25-10-2021</td>\n",
       "      <td>25-10-2021</td>\n",
       "      <td>Shopmania Music Band A5 Notebook Spiral Bound</td>\n",
       "      <td>Pens &amp; Stationery</td>\n",
       "      <td>Diaries &amp; Notebooks</td>\n",
       "      <td>Notebooks</td>\n",
       "      <td>Designer</td>\n",
       "      <td>DIAEJ6Z8BEDTGGYY</td>\n",
       "      <td>499</td>\n",
       "      <td>275</td>\n",
       "      <td>1.0</td>\n",
       "      <td>Shopmania</td>\n",
       "      <td>{\"product_specification\"=&gt;[{\"key\"=&gt;\"Ruling\", \"...</td>\n",
       "      <td>Specifications of Shopmania Music Band A5 Note...</td>\n",
       "      <td>27.50</td>\n",
       "    </tr>\n",
       "    <tr>\n",
       "      <th>2</th>\n",
       "      <td>0686fec9b70e5039583a38119ca0c835</td>\n",
       "      <td>West</td>\n",
       "      <td>24-10-2021</td>\n",
       "      <td>25-10-2021</td>\n",
       "      <td>25-10-2021</td>\n",
       "      <td>Shopmania Music Band A5 Notebook Spiral Bound</td>\n",
       "      <td>Pens &amp; Stationery</td>\n",
       "      <td>Diaries &amp; Notebooks</td>\n",
       "      <td>Notebooks</td>\n",
       "      <td>Designer</td>\n",
       "      <td>DIAEJ6Z8KQFWDEGH</td>\n",
       "      <td>499</td>\n",
       "      <td>275</td>\n",
       "      <td>2.0</td>\n",
       "      <td>Shopmania</td>\n",
       "      <td>{\"product_specification\"=&gt;[{\"key\"=&gt;\"Ruling\", \"...</td>\n",
       "      <td>Specifications of Shopmania Music Band A5 Note...</td>\n",
       "      <td>27.50</td>\n",
       "    </tr>\n",
       "    <tr>\n",
       "      <th>3</th>\n",
       "      <td>ea2406dc597bee2abb6b867fa668501f</td>\n",
       "      <td>West</td>\n",
       "      <td>24-10-2021</td>\n",
       "      <td>25-10-2021</td>\n",
       "      <td>25-10-2021</td>\n",
       "      <td>Tiara Diaries 2016-2017 Designer LA Kaarta \"TA...</td>\n",
       "      <td>Pens &amp; Stationery</td>\n",
       "      <td>Diaries &amp; Notebooks</td>\n",
       "      <td>Notebooks</td>\n",
       "      <td>Designer</td>\n",
       "      <td>DIAEJ8FGHZ3K86JU</td>\n",
       "      <td>1000</td>\n",
       "      <td>837</td>\n",
       "      <td>3.0</td>\n",
       "      <td>Tiara Diaries</td>\n",
       "      <td>{\"product_specification\"=&gt;[{\"key\"=&gt;\"Ruling\", \"...</td>\n",
       "      <td>Specifications of Tiara Diaries 2016-2017 Desi...</td>\n",
       "      <td>209.25</td>\n",
       "    </tr>\n",
       "    <tr>\n",
       "      <th>4</th>\n",
       "      <td>5935ed077915347dc695744df68c565c</td>\n",
       "      <td>East</td>\n",
       "      <td>03-09-2021</td>\n",
       "      <td>04-09-2021</td>\n",
       "      <td>04-09-2021</td>\n",
       "      <td>KAJCI Embroidered Women's Waistcoat</td>\n",
       "      <td>Clothing</td>\n",
       "      <td>Women's Clothing</td>\n",
       "      <td>Formal Wear</td>\n",
       "      <td>Waistcoats</td>\n",
       "      <td>WSCEG2FYDYFDSVZ6</td>\n",
       "      <td>1200</td>\n",
       "      <td>699</td>\n",
       "      <td>5.0</td>\n",
       "      <td>KAJCI</td>\n",
       "      <td>{\"product_specification\"=&gt;[{\"key\"=&gt;\"Pattern\", ...</td>\n",
       "      <td>Specifications of KAJCI Embroidered Women's Wa...</td>\n",
       "      <td>174.75</td>\n",
       "    </tr>\n",
       "  </tbody>\n",
       "</table>\n",
       "</div>"
      ],
      "text/plain": [
       "                   Customer_uniq_id Region  Order_Date Expected_Delivery_Date  \\\n",
       "0  e71017e224688489edfe856f2308806d  East   24-10-2021             25-10-2021   \n",
       "1  6286847ee2da18f587503db49511c539  East   24-10-2021             25-10-2021   \n",
       "2  0686fec9b70e5039583a38119ca0c835   West  24-10-2021             25-10-2021   \n",
       "3  ea2406dc597bee2abb6b867fa668501f   West  24-10-2021             25-10-2021   \n",
       "4  5935ed077915347dc695744df68c565c  East   03-09-2021             04-09-2021   \n",
       "\n",
       "  Delivered_Date                                       product_name  \\\n",
       "0     25-10-2021  Indcrown Net Embroidered Semi-stitched Lehenga...   \n",
       "1     25-10-2021      Shopmania Music Band A5 Notebook Spiral Bound   \n",
       "2     25-10-2021      Shopmania Music Band A5 Notebook Spiral Bound   \n",
       "3     25-10-2021  Tiara Diaries 2016-2017 Designer LA Kaarta \"TA...   \n",
       "4     04-09-2021                KAJCI Embroidered Women's Waistcoat   \n",
       "\n",
       "  product_main_category    product_subcategory product_category_filter  \\\n",
       "0             Clothing       Women's Clothing             Ethnic Wear    \n",
       "1    Pens & Stationery    Diaries & Notebooks               Notebooks    \n",
       "2    Pens & Stationery    Diaries & Notebooks               Notebooks    \n",
       "3    Pens & Stationery    Diaries & Notebooks               Notebooks    \n",
       "4             Clothing       Women's Clothing             Formal Wear    \n",
       "\n",
       "  product_category_subfilter product_unique ID  retail_price  \\\n",
       "0                    Fabric   FABEJX2NHNKCYHKA           999   \n",
       "1                  Designer   DIAEJ6Z8BEDTGGYY           499   \n",
       "2                  Designer   DIAEJ6Z8KQFWDEGH           499   \n",
       "3                  Designer   DIAEJ8FGHZ3K86JU          1000   \n",
       "4                Waistcoats   WSCEG2FYDYFDSVZ6          1200   \n",
       "\n",
       "   discounted_price  product_rating          Brand  \\\n",
       "0               699             4.0       Indcrown   \n",
       "1               275             1.0      Shopmania   \n",
       "2               275             2.0      Shopmania   \n",
       "3               837             3.0  Tiara Diaries   \n",
       "4               699             5.0          KAJCI   \n",
       "\n",
       "                              product_specifications  \\\n",
       "0  {\"product_specification\"=>[{\"key\"=>\"Fabric\", \"...   \n",
       "1  {\"product_specification\"=>[{\"key\"=>\"Ruling\", \"...   \n",
       "2  {\"product_specification\"=>[{\"key\"=>\"Ruling\", \"...   \n",
       "3  {\"product_specification\"=>[{\"key\"=>\"Ruling\", \"...   \n",
       "4  {\"product_specification\"=>[{\"key\"=>\"Pattern\", ...   \n",
       "\n",
       "                                         description  CompanyRevenueOnOrder  \n",
       "0  Key Features of Indcrown Net Embroidered Semi-...                 174.75  \n",
       "1  Specifications of Shopmania Music Band A5 Note...                  27.50  \n",
       "2  Specifications of Shopmania Music Band A5 Note...                  27.50  \n",
       "3  Specifications of Tiara Diaries 2016-2017 Desi...                 209.25  \n",
       "4  Specifications of KAJCI Embroidered Women's Wa...                 174.75  "
      ]
     },
     "execution_count": 61,
     "metadata": {},
     "output_type": "execute_result"
    }
   ],
   "source": [
    "#logic to add CompanyRevenueOnOrder column to initial ECom_Data dataframe which stores the revenue earned by the ECommerce company on each order placed.\n",
    "# Get the Data\n",
    "ECom_Data=pd.read_csv(\"E-Commerce.csv\")\n",
    "CompanyRevenue = []\n",
    "for x in ECom_Data['discounted_price']:\n",
    "    if(x>600):\n",
    "        CompanyRevenue.append(x*0.25)\n",
    "    elif(x>350 and x<=600):\n",
    "        CompanyRevenue.append(x*0.15)\n",
    "    elif(x>100 and x<=350):\n",
    "        CompanyRevenue.append(x*0.1)\n",
    "    else:\n",
    "        CompanyRevenue.append(x*0.05)\n",
    "ECom_Data['CompanyRevenueOnOrder'] = CompanyRevenue\n",
    "ECom_Data.head()"
   ]
  },
  {
   "cell_type": "code",
   "execution_count": 77,
   "id": "d9a4f534",
   "metadata": {
    "id": "d9a4f534"
   },
   "outputs": [
    {
     "data": {
      "text/html": [
       "<div>\n",
       "<style scoped>\n",
       "    .dataframe tbody tr th:only-of-type {\n",
       "        vertical-align: middle;\n",
       "    }\n",
       "\n",
       "    .dataframe tbody tr th {\n",
       "        vertical-align: top;\n",
       "    }\n",
       "\n",
       "    .dataframe thead th {\n",
       "        text-align: right;\n",
       "    }\n",
       "</style>\n",
       "<table border=\"1\" class=\"dataframe\">\n",
       "  <thead>\n",
       "    <tr style=\"text-align: right;\">\n",
       "      <th></th>\n",
       "      <th>Region</th>\n",
       "      <th>OrderYear</th>\n",
       "      <th>OrderMonthNumber</th>\n",
       "      <th>OrderMonth</th>\n",
       "      <th>CompanyRevenueOnOrder</th>\n",
       "    </tr>\n",
       "  </thead>\n",
       "  <tbody>\n",
       "    <tr>\n",
       "      <th>0</th>\n",
       "      <td>East</td>\n",
       "      <td>2020</td>\n",
       "      <td>12</td>\n",
       "      <td>December</td>\n",
       "      <td>363413.85</td>\n",
       "    </tr>\n",
       "    <tr>\n",
       "      <th>1</th>\n",
       "      <td>East</td>\n",
       "      <td>2021</td>\n",
       "      <td>1</td>\n",
       "      <td>January</td>\n",
       "      <td>218740.60</td>\n",
       "    </tr>\n",
       "    <tr>\n",
       "      <th>2</th>\n",
       "      <td>East</td>\n",
       "      <td>2021</td>\n",
       "      <td>2</td>\n",
       "      <td>February</td>\n",
       "      <td>14347.25</td>\n",
       "    </tr>\n",
       "    <tr>\n",
       "      <th>3</th>\n",
       "      <td>East</td>\n",
       "      <td>2021</td>\n",
       "      <td>3</td>\n",
       "      <td>March</td>\n",
       "      <td>124934.10</td>\n",
       "    </tr>\n",
       "    <tr>\n",
       "      <th>4</th>\n",
       "      <td>East</td>\n",
       "      <td>2021</td>\n",
       "      <td>4</td>\n",
       "      <td>April</td>\n",
       "      <td>56293.05</td>\n",
       "    </tr>\n",
       "    <tr>\n",
       "      <th>...</th>\n",
       "      <td>...</td>\n",
       "      <td>...</td>\n",
       "      <td>...</td>\n",
       "      <td>...</td>\n",
       "      <td>...</td>\n",
       "    </tr>\n",
       "    <tr>\n",
       "      <th>32</th>\n",
       "      <td>West</td>\n",
       "      <td>2021</td>\n",
       "      <td>5</td>\n",
       "      <td>May</td>\n",
       "      <td>18631.85</td>\n",
       "    </tr>\n",
       "    <tr>\n",
       "      <th>33</th>\n",
       "      <td>West</td>\n",
       "      <td>2021</td>\n",
       "      <td>6</td>\n",
       "      <td>June</td>\n",
       "      <td>40579.80</td>\n",
       "    </tr>\n",
       "    <tr>\n",
       "      <th>34</th>\n",
       "      <td>West</td>\n",
       "      <td>2021</td>\n",
       "      <td>7</td>\n",
       "      <td>July</td>\n",
       "      <td>537.00</td>\n",
       "    </tr>\n",
       "    <tr>\n",
       "      <th>35</th>\n",
       "      <td>West</td>\n",
       "      <td>2021</td>\n",
       "      <td>8</td>\n",
       "      <td>August</td>\n",
       "      <td>736.75</td>\n",
       "    </tr>\n",
       "    <tr>\n",
       "      <th>36</th>\n",
       "      <td>West</td>\n",
       "      <td>2021</td>\n",
       "      <td>10</td>\n",
       "      <td>October</td>\n",
       "      <td>236.75</td>\n",
       "    </tr>\n",
       "  </tbody>\n",
       "</table>\n",
       "<p>37 rows × 5 columns</p>\n",
       "</div>"
      ],
      "text/plain": [
       "   Region  OrderYear  OrderMonthNumber OrderMonth  CompanyRevenueOnOrder\n",
       "0   East        2020                12   December              363413.85\n",
       "1   East        2021                 1    January              218740.60\n",
       "2   East        2021                 2   February               14347.25\n",
       "3   East        2021                 3      March              124934.10\n",
       "4   East        2021                 4      April               56293.05\n",
       "..    ...        ...               ...        ...                    ...\n",
       "32   West       2021                 5        May               18631.85\n",
       "33   West       2021                 6       June               40579.80\n",
       "34   West       2021                 7       July                 537.00\n",
       "35   West       2021                 8     August                 736.75\n",
       "36   West       2021                10    October                 236.75\n",
       "\n",
       "[37 rows x 5 columns]"
      ]
     },
     "execution_count": 77,
     "metadata": {},
     "output_type": "execute_result"
    }
   ],
   "source": [
    "#extracting year, month(in number and name) to group orders by month and year\n",
    "ECom_Data['OrderDateInDt'] = pd.to_datetime(ECom_Data['Order_Date'],dayfirst = True)\n",
    "ECom_Data['OrderYear'] = ECom_Data['OrderDateInDt'].dt.year\n",
    "ECom_Data['OrderMonthNumber'] = ECom_Data['OrderDateInDt'].dt.month\n",
    "ECom_Data['OrderMonth'] = ECom_Data['OrderDateInDt'].dt.month_name()\n",
    "\n",
    "##grouped data by year and month as there are multiple years and months to be considered for plotting. Calculating company revenue total based on previously mentioned grouping.\n",
    "ECom_Data_Monthly = ECom_Data.groupby(['Region','OrderYear', 'OrderMonthNumber', 'OrderMonth'])['CompanyRevenueOnOrder'].sum()\n",
    "\n",
    "ECom_Data_Monthly_Df = ECom_Data_Monthly.reset_index()\n",
    "ECom_Data_Monthly_Df"
   ]
  },
  {
   "cell_type": "code",
   "execution_count": 78,
   "id": "6a885af7",
   "metadata": {},
   "outputs": [
    {
     "data": {
      "image/png": "[encoded data removed]",
      "text/plain": [
       "<Figure size 640x480 with 1 Axes>"
      ]
     },
     "metadata": {},
     "output_type": "display_data"
    }
   ],
   "source": [
    "#line plot for monthly revenue of E-Commerce company for East region. (hued by Year to show different year plots)\n",
    "plt.xticks(rotation = 90)\n",
    "sns.lineplot(data = ECom_Data_Monthly_Df.loc[ECom_Data_Monthly_Df['Region'] == 'East '].sort_values('OrderMonthNumber'), x = 'OrderMonth', y = 'CompanyRevenueOnOrder', hue = 'OrderYear', style = 'OrderYear', markers = True);"
   ]
  },
  {
   "cell_type": "code",
   "execution_count": 79,
   "id": "05e4a0a6",
   "metadata": {},
   "outputs": [
    {
     "data": {
      "image/png": "[encoded data removed]",
      "text/plain": [
       "<Figure size 640x480 with 1 Axes>"
      ]
     },
     "metadata": {},
     "output_type": "display_data"
    }
   ],
   "source": [
    "#line plot for monthly revenue of E-Commerce company for West region. (hued by Year to show different year plots)\n",
    "plt.xticks(rotation=90)\n",
    "sns.lineplot(data = ECom_Data_Monthly_Df.loc[ECom_Data_Monthly_Df['Region'] == 'West'].sort_values('OrderMonthNumber'), x = 'OrderMonth', y = 'CompanyRevenueOnOrder', hue = 'OrderYear',style = 'OrderYear', markers = True);"
   ]
  },
  {
   "cell_type": "code",
   "execution_count": 80,
   "id": "017e086f",
   "metadata": {},
   "outputs": [
    {
     "data": {
      "image/png": "[encoded data removed]",
      "text/plain": [
       "<Figure size 640x480 with 1 Axes>"
      ]
     },
     "metadata": {},
     "output_type": "display_data"
    }
   ],
   "source": [
    "#line plot for monthly revenue of E-Commerce company for North region. (hued by Year to show different year plots)\n",
    "plt.xticks(rotation=90)\n",
    "sns.lineplot(data = ECom_Data_Monthly_Df.loc[ECom_Data_Monthly_Df['Region'] == 'North'].sort_values('OrderMonthNumber'), x = 'OrderMonth', y = 'CompanyRevenueOnOrder', hue = 'OrderYear',style = 'OrderYear', markers = True);"
   ]
  },
  {
   "cell_type": "code",
   "execution_count": 81,
   "id": "63ccbc9e",
   "metadata": {},
   "outputs": [
    {
     "data": {
      "image/png": "[encoded data removed]",
      "text/plain": [
       "<Figure size 640x480 with 1 Axes>"
      ]
     },
     "metadata": {},
     "output_type": "display_data"
    }
   ],
   "source": [
    "#line plot for monthly revenue of E-Commerce company for South region. (hued by Year to show different year plots)\n",
    "plt.xticks(rotation=90)\n",
    "sns.lineplot(data = ECom_Data_Monthly_Df.loc[ECom_Data_Monthly_Df['Region'] == 'South'].sort_values('OrderMonthNumber'), x = 'OrderMonth', y = 'CompanyRevenueOnOrder', hue = 'OrderYear',style = 'OrderYear', markers = True);"
   ]
  },
  {
   "cell_type": "markdown",
   "id": "dac59dc4",
   "metadata": {
    "id": "dac59dc4"
   },
   "source": [
    "### Ans 9 b) From the line plots above, we can say that the months where company earned minimum and maximum are as shown below:\n",
    "\n",
    "Region - MinRevenueMonth - MaxRevenueMonth\n",
    "\n",
    "East - Oct2021 - Dec2020\n",
    "\n",
    "West - Oct2021 - Dec2020\n",
    "\n",
    "North - July2021 - Dec2020\n",
    "\n",
    "South - May2021 - Dec2020"
   ]
  },
  {
   "cell_type": "markdown",
   "id": "1578b211",
   "metadata": {},
   "source": []
  },
  {
   "cell_type": "markdown",
   "id": "dcb8d39f",
   "metadata": {
    "id": "dcb8d39f"
   },
   "source": []
  },
  {
   "cell_type": "code",
   "execution_count": null,
   "id": "899a15b7",
   "metadata": {},
   "outputs": [],
   "source": []
  }
 ],
 "metadata": {
  "colab": {
   "provenance": []
  },
  "kernelspec": {
   "display_name": "Python 3 (ipykernel)",
   "language": "python",
   "name": "python3"
  },
  "language_info": {
   "codemirror_mode": {
    "name": "ipython",
    "version": 3
   },
   "file_extension": ".py",
   "mimetype": "text/x-python",
   "name": "python",
   "nbconvert_exporter": "python",
   "pygments_lexer": "ipython3",
   "version": "3.9.13"
  }
 },
 "nbformat": 4,
 "nbformat_minor": 5
}
